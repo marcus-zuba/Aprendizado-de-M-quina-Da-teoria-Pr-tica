{
 "cells": [
  {
   "cell_type": "markdown",
   "metadata": {},
   "source": [
    "# Exercicio Doodle Pandas\n",
    "\n",
    "### Alunos: Bruna Gomes, Diego Simões, Leonardo Mendes, Marcus Vinicius Zuba e Rafael Augusto"
   ]
  },
  {
   "cell_type": "markdown",
   "metadata": {},
   "source": [
    "#### Enunciado:\n",
    "Temos um csv com um \"doodle\" de alunos. Devemos:\n",
    "- Encontrar a quantidade minima e horarios que todos conseguem se encontrar\n",
    "- Opcional: Quando encontrou-se a quantidade minima, por ex, 3, procurar os três horarios em que conseguimos encontro com a quantidade mais balanceada possivel (ou seja, mais proxima de 33%)\n"
   ]
  },
  {
   "cell_type": "code",
   "execution_count": 50,
   "metadata": {},
   "outputs": [],
   "source": [
    "import pandas as pd "
   ]
  },
  {
   "cell_type": "code",
   "execution_count": 102,
   "metadata": {},
   "outputs": [],
   "source": [
    "escolhas_alunos = pd.read_csv(\"doodle.csv\")"
   ]
  },
  {
   "cell_type": "code",
   "execution_count": 103,
   "metadata": {},
   "outputs": [
    {
     "name": "stdout",
     "output_type": "stream",
     "text": [
      "A quantidade de encontros é: 7\n",
      "['Qua 10:00 AM – 11:00 AM', 'Sex 4:30 PM – 5:30 PM', 'Seg 8:00 AM – 9:00 AM', 'Seg 6:00 PM – 7:00 PM', 'Seg 7:30 AM – 8:30 AM', 'Seg 11:00 AM – 12:00 PM', 'Seg 4:30 PM – 5:30 PM']\n"
     ]
    }
   ],
   "source": [
    "alunos_ja_abordados = []\n",
    "encontros = []\n",
    "\n",
    "def encontrar_melhor_dia(escolhas_alunos):\n",
    "    maior = 0\n",
    "    dia = \"Seg 7:30 AM – 8:30 AM\"\n",
    "    for coluna in escolhas_alunos.columns.values:\n",
    "        quantidade_oks = escolhas_alunos[escolhas_alunos[coluna]==\"OK\"].shape[0]\n",
    "        if(quantidade_oks > maior):\n",
    "            maior = quantidade_oks\n",
    "            dia = coluna\n",
    "    return dia\n",
    "\n",
    "while len(alunos_ja_abordados) < 91:\n",
    "    dia_atual = encontrar_melhor_dia(escolhas_alunos)\n",
    "    alunos_que_podem = escolhas_alunos[escolhas_alunos[dia_atual]==\"OK\"][\"Nome do aluno\"]\n",
    "    for aluno in alunos_que_podem:\n",
    "        alunos_ja_abordados.append(aluno)\n",
    "    escolhas_alunos = escolhas_alunos[escolhas_alunos[dia_atual]!=\"OK\"]\n",
    "    encontros.append(dia_atual)\n",
    "\n",
    "\n",
    "print(f\"A quantidade de encontros é: {len(encontros)}\")\n",
    "print(encontros)"
   ]
  }
 ],
 "metadata": {
  "kernelspec": {
   "display_name": "Python 3",
   "language": "python",
   "name": "python3"
  },
  "language_info": {
   "codemirror_mode": {
    "name": "ipython",
    "version": 3
   },
   "file_extension": ".py",
   "mimetype": "text/x-python",
   "name": "python",
   "nbconvert_exporter": "python",
   "pygments_lexer": "ipython3",
   "version": "3.7.4"
  }
 },
 "nbformat": 4,
 "nbformat_minor": 4
}
