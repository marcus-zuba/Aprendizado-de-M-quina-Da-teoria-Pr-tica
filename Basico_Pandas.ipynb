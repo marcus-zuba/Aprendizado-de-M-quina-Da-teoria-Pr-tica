{
 "cells": [
  {
   "cell_type": "markdown",
   "metadata": {},
   "source": [
    "Pandas é uma biblioteca Python muito útil para manipulação de dados. Ela trabalha basicamente com duas estruturas: [DataFrame](https://pandas.pydata.org/pandas-docs/stable/reference/api/pandas.DataFrame.html) e [Series](https://pandas.pydata.org/pandas-docs/stable/reference/api/pandas.Series.html).\n",
    "    \n",
    "Series são similares aos vetores, porém, a Serie possui um rótulo. DataFrame é similar a matrizes, porém, cada coluna pode possuir um rótulo. Além disso, com tais estruturas, vocês podem usar diversos métodos para obter, manipular, agrupar e filtrar os dados. [Veja aqui mais propriedades dessas duas estruturas](https://pandas.pydata.org/pandas-docs/stable/getting_started/overview.html)"
   ]
  },
  {
   "cell_type": "code",
   "execution_count": 2,
   "metadata": {},
   "outputs": [],
   "source": [
    "import pandas as pd\n",
    "import numpy as np"
   ]
  },
  {
   "cell_type": "markdown",
   "metadata": {},
   "source": [
    "## Series"
   ]
  },
  {
   "cell_type": "markdown",
   "metadata": {},
   "source": [
    "Series é similar a um vetor, porém é possível definir rótulos aos indices além de realizar manipulações e consultas facilmente"
   ]
  },
  {
   "cell_type": "code",
   "execution_count": 3,
   "metadata": {},
   "outputs": [
    {
     "name": "stdout",
     "output_type": "stream",
     "text": [
      "0    10\n",
      "1    40\n",
      "2    40\n",
      "3    20\n",
      "dtype: int64\n"
     ]
    }
   ],
   "source": [
    "idade = pd.Series([10,40,40,20])\n",
    "print(idade)"
   ]
  },
  {
   "cell_type": "code",
   "execution_count": 4,
   "metadata": {},
   "outputs": [
    {
     "name": "stdout",
     "output_type": "stream",
     "text": [
      "Alice     10\n",
      "Bob       40\n",
      "Carol     40\n",
      "Daniel    20\n",
      "dtype: int64\n"
     ]
    }
   ],
   "source": [
    "idades = pd.Series([10,40,40,20],index=[\"Alice\",\"Bob\",\"Carol\",\"Daniel\"])\n",
    "print(idades)"
   ]
  },
  {
   "cell_type": "markdown",
   "metadata": {},
   "source": [
    "Comandos interessantes: é possivel, neste exemplo, quantas pessoas tem uma determinada idade:"
   ]
  },
  {
   "cell_type": "code",
   "execution_count": 5,
   "metadata": {},
   "outputs": [
    {
     "data": {
      "text/plain": [
       "40    2\n",
       "20    1\n",
       "10    1\n",
       "dtype: int64"
      ]
     },
     "execution_count": 5,
     "metadata": {},
     "output_type": "execute_result"
    }
   ],
   "source": [
    "idades.value_counts()"
   ]
  },
  {
   "cell_type": "markdown",
   "metadata": {},
   "source": [
    "Além de outras estatisticas"
   ]
  },
  {
   "cell_type": "code",
   "execution_count": 6,
   "metadata": {},
   "outputs": [
    {
     "data": {
      "text/plain": [
       "count     4.0\n",
       "mean     27.5\n",
       "std      15.0\n",
       "min      10.0\n",
       "25%      17.5\n",
       "50%      30.0\n",
       "75%      40.0\n",
       "max      40.0\n",
       "dtype: float64"
      ]
     },
     "execution_count": 6,
     "metadata": {},
     "output_type": "execute_result"
    }
   ],
   "source": [
    "idades.describe()"
   ]
  },
  {
   "cell_type": "markdown",
   "metadata": {},
   "source": [
    "**Navegando nos valores de value_counts**:"
   ]
  },
  {
   "cell_type": "code",
   "execution_count": 7,
   "metadata": {},
   "outputs": [
    {
     "name": "stdout",
     "output_type": "stream",
     "text": [
      "Idade: 40 Quantidade: 2\n",
      "Idade: 20 Quantidade: 1\n",
      "Idade: 10 Quantidade: 1\n"
     ]
    }
   ],
   "source": [
    "for idade,qtd_pessoas in idades.value_counts().iteritems():\n",
    "    print(\"Idade: \"+str(idade)+\" Quantidade: \"+str(qtd_pessoas))"
   ]
  },
  {
   "cell_type": "markdown",
   "metadata": {},
   "source": [
    "## DataFrame"
   ]
  },
  {
   "cell_type": "markdown",
   "metadata": {},
   "source": [
    "DataFrame é similar a uma matriz, porém, possui operações de filtrar, contabilizar e manipular elementos. Para cada coluna, colocamos seus elementos."
   ]
  },
  {
   "cell_type": "code",
   "execution_count": 8,
   "metadata": {},
   "outputs": [],
   "source": [
    "contatos = pd.DataFrame({'Nome' : [\"Alice\", \"Bob\", \"Carol\", \"Daniel\", \"Elisa\"],\n",
    "                   'Idade' : [12, 34, 12, 32,23],\n",
    "                   'Altura': [1.4,1.6,1.35,1.5,1.55],\n",
    "                   'Cidade' : [\"Belo Horizonte\",\"São Paulo\",\"São Paulo\",\"Rio de Janeiro\",\"Belo Horizonte\"],\n",
    "                       })"
   ]
  },
  {
   "cell_type": "code",
   "execution_count": 9,
   "metadata": {},
   "outputs": [
    {
     "data": {
      "text/html": [
       "<div>\n",
       "<style scoped>\n",
       "    .dataframe tbody tr th:only-of-type {\n",
       "        vertical-align: middle;\n",
       "    }\n",
       "\n",
       "    .dataframe tbody tr th {\n",
       "        vertical-align: top;\n",
       "    }\n",
       "\n",
       "    .dataframe thead th {\n",
       "        text-align: right;\n",
       "    }\n",
       "</style>\n",
       "<table border=\"1\" class=\"dataframe\">\n",
       "  <thead>\n",
       "    <tr style=\"text-align: right;\">\n",
       "      <th></th>\n",
       "      <th>Nome</th>\n",
       "      <th>Idade</th>\n",
       "      <th>Altura</th>\n",
       "      <th>Cidade</th>\n",
       "    </tr>\n",
       "  </thead>\n",
       "  <tbody>\n",
       "    <tr>\n",
       "      <th>0</th>\n",
       "      <td>Alice</td>\n",
       "      <td>12</td>\n",
       "      <td>1.40</td>\n",
       "      <td>Belo Horizonte</td>\n",
       "    </tr>\n",
       "    <tr>\n",
       "      <th>1</th>\n",
       "      <td>Bob</td>\n",
       "      <td>34</td>\n",
       "      <td>1.60</td>\n",
       "      <td>São Paulo</td>\n",
       "    </tr>\n",
       "    <tr>\n",
       "      <th>2</th>\n",
       "      <td>Carol</td>\n",
       "      <td>12</td>\n",
       "      <td>1.35</td>\n",
       "      <td>São Paulo</td>\n",
       "    </tr>\n",
       "    <tr>\n",
       "      <th>3</th>\n",
       "      <td>Daniel</td>\n",
       "      <td>32</td>\n",
       "      <td>1.50</td>\n",
       "      <td>Rio de Janeiro</td>\n",
       "    </tr>\n",
       "    <tr>\n",
       "      <th>4</th>\n",
       "      <td>Elisa</td>\n",
       "      <td>23</td>\n",
       "      <td>1.55</td>\n",
       "      <td>Belo Horizonte</td>\n",
       "    </tr>\n",
       "  </tbody>\n",
       "</table>\n",
       "</div>"
      ],
      "text/plain": [
       "     Nome  Idade  Altura          Cidade\n",
       "0   Alice     12    1.40  Belo Horizonte\n",
       "1     Bob     34    1.60       São Paulo\n",
       "2   Carol     12    1.35       São Paulo\n",
       "3  Daniel     32    1.50  Rio de Janeiro\n",
       "4   Elisa     23    1.55  Belo Horizonte"
      ]
     },
     "execution_count": 9,
     "metadata": {},
     "output_type": "execute_result"
    }
   ],
   "source": [
    "contatos[0:10]"
   ]
  },
  {
   "cell_type": "markdown",
   "metadata": {},
   "source": [
    "Outra forma de criar:"
   ]
  },
  {
   "cell_type": "code",
   "execution_count": 10,
   "metadata": {},
   "outputs": [
    {
     "data": {
      "text/html": [
       "<div>\n",
       "<style scoped>\n",
       "    .dataframe tbody tr th:only-of-type {\n",
       "        vertical-align: middle;\n",
       "    }\n",
       "\n",
       "    .dataframe tbody tr th {\n",
       "        vertical-align: top;\n",
       "    }\n",
       "\n",
       "    .dataframe thead th {\n",
       "        text-align: right;\n",
       "    }\n",
       "</style>\n",
       "<table border=\"1\" class=\"dataframe\">\n",
       "  <thead>\n",
       "    <tr style=\"text-align: right;\">\n",
       "      <th></th>\n",
       "      <th>Nome</th>\n",
       "      <th>Idade</th>\n",
       "      <th>Altura</th>\n",
       "      <th>Cidade</th>\n",
       "    </tr>\n",
       "  </thead>\n",
       "  <tbody>\n",
       "    <tr>\n",
       "      <th>0</th>\n",
       "      <td>Alice</td>\n",
       "      <td>12</td>\n",
       "      <td>1.40</td>\n",
       "      <td>Belo Horizonte</td>\n",
       "    </tr>\n",
       "    <tr>\n",
       "      <th>1</th>\n",
       "      <td>Bob</td>\n",
       "      <td>34</td>\n",
       "      <td>1.60</td>\n",
       "      <td>São Paulo</td>\n",
       "    </tr>\n",
       "    <tr>\n",
       "      <th>2</th>\n",
       "      <td>Carol</td>\n",
       "      <td>12</td>\n",
       "      <td>1.35</td>\n",
       "      <td>São Paulo</td>\n",
       "    </tr>\n",
       "    <tr>\n",
       "      <th>3</th>\n",
       "      <td>Daniel</td>\n",
       "      <td>31</td>\n",
       "      <td>1.50</td>\n",
       "      <td>Rio de Janeiro</td>\n",
       "    </tr>\n",
       "    <tr>\n",
       "      <th>4</th>\n",
       "      <td>Elisa</td>\n",
       "      <td>23</td>\n",
       "      <td>1.55</td>\n",
       "      <td>Belo Horizonte</td>\n",
       "    </tr>\n",
       "  </tbody>\n",
       "</table>\n",
       "</div>"
      ],
      "text/plain": [
       "     Nome  Idade  Altura          Cidade\n",
       "0   Alice     12    1.40  Belo Horizonte\n",
       "1     Bob     34    1.60       São Paulo\n",
       "2   Carol     12    1.35       São Paulo\n",
       "3  Daniel     31    1.50  Rio de Janeiro\n",
       "4   Elisa     23    1.55  Belo Horizonte"
      ]
     },
     "execution_count": 10,
     "metadata": {},
     "output_type": "execute_result"
    }
   ],
   "source": [
    "pd.DataFrame([[\"Alice\",12 ,1.4  , \"Belo Horizonte\"],\n",
    "               [\"Bob\",34, 1.6,\"São Paulo\"],\n",
    "                [\"Carol\",12,1.35, \"São Paulo\"],\n",
    "                [\"Daniel\",31, 1.5, \"Rio de Janeiro\"],\n",
    "                [\"Elisa\",23, 1.55, \"Belo Horizonte\"],\n",
    "                        ],\n",
    "                       columns = [\"Nome\",\"Idade\",\"Altura\",\"Cidade\"])"
   ]
  },
  {
   "cell_type": "markdown",
   "metadata": {},
   "source": [
    "**Adicionar uma nova coluna**"
   ]
  },
  {
   "cell_type": "code",
   "execution_count": 12,
   "metadata": {},
   "outputs": [
    {
     "data": {
      "text/html": [
       "<div>\n",
       "<style scoped>\n",
       "    .dataframe tbody tr th:only-of-type {\n",
       "        vertical-align: middle;\n",
       "    }\n",
       "\n",
       "    .dataframe tbody tr th {\n",
       "        vertical-align: top;\n",
       "    }\n",
       "\n",
       "    .dataframe thead th {\n",
       "        text-align: right;\n",
       "    }\n",
       "</style>\n",
       "<table border=\"1\" class=\"dataframe\">\n",
       "  <thead>\n",
       "    <tr style=\"text-align: right;\">\n",
       "      <th></th>\n",
       "      <th>Nome</th>\n",
       "      <th>Idade</th>\n",
       "      <th>Altura</th>\n",
       "      <th>Cidade</th>\n",
       "      <th>Peso</th>\n",
       "    </tr>\n",
       "  </thead>\n",
       "  <tbody>\n",
       "    <tr>\n",
       "      <th>0</th>\n",
       "      <td>Alice</td>\n",
       "      <td>12</td>\n",
       "      <td>1.40</td>\n",
       "      <td>Belo Horizonte</td>\n",
       "      <td>20</td>\n",
       "    </tr>\n",
       "    <tr>\n",
       "      <th>1</th>\n",
       "      <td>Bob</td>\n",
       "      <td>34</td>\n",
       "      <td>1.60</td>\n",
       "      <td>São Paulo</td>\n",
       "      <td>50</td>\n",
       "    </tr>\n",
       "    <tr>\n",
       "      <th>2</th>\n",
       "      <td>Carol</td>\n",
       "      <td>12</td>\n",
       "      <td>1.35</td>\n",
       "      <td>São Paulo</td>\n",
       "      <td>45</td>\n",
       "    </tr>\n",
       "    <tr>\n",
       "      <th>3</th>\n",
       "      <td>Daniel</td>\n",
       "      <td>32</td>\n",
       "      <td>1.50</td>\n",
       "      <td>Rio de Janeiro</td>\n",
       "      <td>55</td>\n",
       "    </tr>\n",
       "    <tr>\n",
       "      <th>4</th>\n",
       "      <td>Elisa</td>\n",
       "      <td>23</td>\n",
       "      <td>1.55</td>\n",
       "      <td>Belo Horizonte</td>\n",
       "      <td>60</td>\n",
       "    </tr>\n",
       "  </tbody>\n",
       "</table>\n",
       "</div>"
      ],
      "text/plain": [
       "     Nome  Idade  Altura          Cidade  Peso\n",
       "0   Alice     12    1.40  Belo Horizonte    20\n",
       "1     Bob     34    1.60       São Paulo    50\n",
       "2   Carol     12    1.35       São Paulo    45\n",
       "3  Daniel     32    1.50  Rio de Janeiro    55\n",
       "4   Elisa     23    1.55  Belo Horizonte    60"
      ]
     },
     "execution_count": 12,
     "metadata": {},
     "output_type": "execute_result"
    }
   ],
   "source": [
    "contatos[\"Peso\"] =  pd.Series([20,50,45,55,60])\n",
    "contatos"
   ]
  },
  {
   "cell_type": "markdown",
   "metadata": {},
   "source": [
    "**Funções para ordenar:**"
   ]
  },
  {
   "cell_type": "code",
   "execution_count": 13,
   "metadata": {},
   "outputs": [
    {
     "data": {
      "text/html": [
       "<div>\n",
       "<style scoped>\n",
       "    .dataframe tbody tr th:only-of-type {\n",
       "        vertical-align: middle;\n",
       "    }\n",
       "\n",
       "    .dataframe tbody tr th {\n",
       "        vertical-align: top;\n",
       "    }\n",
       "\n",
       "    .dataframe thead th {\n",
       "        text-align: right;\n",
       "    }\n",
       "</style>\n",
       "<table border=\"1\" class=\"dataframe\">\n",
       "  <thead>\n",
       "    <tr style=\"text-align: right;\">\n",
       "      <th></th>\n",
       "      <th>Nome</th>\n",
       "      <th>Idade</th>\n",
       "      <th>Altura</th>\n",
       "      <th>Cidade</th>\n",
       "      <th>Peso</th>\n",
       "    </tr>\n",
       "  </thead>\n",
       "  <tbody>\n",
       "    <tr>\n",
       "      <th>0</th>\n",
       "      <td>Alice</td>\n",
       "      <td>12</td>\n",
       "      <td>1.40</td>\n",
       "      <td>Belo Horizonte</td>\n",
       "      <td>20</td>\n",
       "    </tr>\n",
       "    <tr>\n",
       "      <th>2</th>\n",
       "      <td>Carol</td>\n",
       "      <td>12</td>\n",
       "      <td>1.35</td>\n",
       "      <td>São Paulo</td>\n",
       "      <td>45</td>\n",
       "    </tr>\n",
       "    <tr>\n",
       "      <th>4</th>\n",
       "      <td>Elisa</td>\n",
       "      <td>23</td>\n",
       "      <td>1.55</td>\n",
       "      <td>Belo Horizonte</td>\n",
       "      <td>60</td>\n",
       "    </tr>\n",
       "    <tr>\n",
       "      <th>3</th>\n",
       "      <td>Daniel</td>\n",
       "      <td>32</td>\n",
       "      <td>1.50</td>\n",
       "      <td>Rio de Janeiro</td>\n",
       "      <td>55</td>\n",
       "    </tr>\n",
       "    <tr>\n",
       "      <th>1</th>\n",
       "      <td>Bob</td>\n",
       "      <td>34</td>\n",
       "      <td>1.60</td>\n",
       "      <td>São Paulo</td>\n",
       "      <td>50</td>\n",
       "    </tr>\n",
       "  </tbody>\n",
       "</table>\n",
       "</div>"
      ],
      "text/plain": [
       "     Nome  Idade  Altura          Cidade  Peso\n",
       "0   Alice     12    1.40  Belo Horizonte    20\n",
       "2   Carol     12    1.35       São Paulo    45\n",
       "4   Elisa     23    1.55  Belo Horizonte    60\n",
       "3  Daniel     32    1.50  Rio de Janeiro    55\n",
       "1     Bob     34    1.60       São Paulo    50"
      ]
     },
     "execution_count": 13,
     "metadata": {},
     "output_type": "execute_result"
    }
   ],
   "source": [
    "contatos_ord = contatos.sort_values(by=\"Idade\")\n",
    "contatos_ord"
   ]
  },
  {
   "cell_type": "markdown",
   "metadata": {},
   "source": [
    "Atenção: Assim como a maioria das operações, é retornado um DataFrame ordenado. O DataFrame **contatos** não muda a sua ordem. Para que seja feita a alteração direta no DataFrame, usamos inplace=True"
   ]
  },
  {
   "cell_type": "code",
   "execution_count": 14,
   "metadata": {},
   "outputs": [
    {
     "data": {
      "text/html": [
       "<div>\n",
       "<style scoped>\n",
       "    .dataframe tbody tr th:only-of-type {\n",
       "        vertical-align: middle;\n",
       "    }\n",
       "\n",
       "    .dataframe tbody tr th {\n",
       "        vertical-align: top;\n",
       "    }\n",
       "\n",
       "    .dataframe thead th {\n",
       "        text-align: right;\n",
       "    }\n",
       "</style>\n",
       "<table border=\"1\" class=\"dataframe\">\n",
       "  <thead>\n",
       "    <tr style=\"text-align: right;\">\n",
       "      <th></th>\n",
       "      <th>Nome</th>\n",
       "      <th>Idade</th>\n",
       "      <th>Altura</th>\n",
       "      <th>Cidade</th>\n",
       "      <th>Peso</th>\n",
       "    </tr>\n",
       "  </thead>\n",
       "  <tbody>\n",
       "    <tr>\n",
       "      <th>2</th>\n",
       "      <td>Carol</td>\n",
       "      <td>12</td>\n",
       "      <td>1.35</td>\n",
       "      <td>São Paulo</td>\n",
       "      <td>45</td>\n",
       "    </tr>\n",
       "    <tr>\n",
       "      <th>0</th>\n",
       "      <td>Alice</td>\n",
       "      <td>12</td>\n",
       "      <td>1.40</td>\n",
       "      <td>Belo Horizonte</td>\n",
       "      <td>20</td>\n",
       "    </tr>\n",
       "    <tr>\n",
       "      <th>3</th>\n",
       "      <td>Daniel</td>\n",
       "      <td>32</td>\n",
       "      <td>1.50</td>\n",
       "      <td>Rio de Janeiro</td>\n",
       "      <td>55</td>\n",
       "    </tr>\n",
       "    <tr>\n",
       "      <th>4</th>\n",
       "      <td>Elisa</td>\n",
       "      <td>23</td>\n",
       "      <td>1.55</td>\n",
       "      <td>Belo Horizonte</td>\n",
       "      <td>60</td>\n",
       "    </tr>\n",
       "    <tr>\n",
       "      <th>1</th>\n",
       "      <td>Bob</td>\n",
       "      <td>34</td>\n",
       "      <td>1.60</td>\n",
       "      <td>São Paulo</td>\n",
       "      <td>50</td>\n",
       "    </tr>\n",
       "  </tbody>\n",
       "</table>\n",
       "</div>"
      ],
      "text/plain": [
       "     Nome  Idade  Altura          Cidade  Peso\n",
       "2   Carol     12    1.35       São Paulo    45\n",
       "0   Alice     12    1.40  Belo Horizonte    20\n",
       "3  Daniel     32    1.50  Rio de Janeiro    55\n",
       "4   Elisa     23    1.55  Belo Horizonte    60\n",
       "1     Bob     34    1.60       São Paulo    50"
      ]
     },
     "execution_count": 14,
     "metadata": {},
     "output_type": "execute_result"
    }
   ],
   "source": [
    "contatos.sort_values(by=\"Altura\",inplace=True)\n",
    "contatos"
   ]
  },
  {
   "cell_type": "markdown",
   "metadata": {},
   "source": [
    "**Filtrar**:"
   ]
  },
  {
   "cell_type": "code",
   "execution_count": 15,
   "metadata": {},
   "outputs": [
    {
     "data": {
      "text/html": [
       "<div>\n",
       "<style scoped>\n",
       "    .dataframe tbody tr th:only-of-type {\n",
       "        vertical-align: middle;\n",
       "    }\n",
       "\n",
       "    .dataframe tbody tr th {\n",
       "        vertical-align: top;\n",
       "    }\n",
       "\n",
       "    .dataframe thead th {\n",
       "        text-align: right;\n",
       "    }\n",
       "</style>\n",
       "<table border=\"1\" class=\"dataframe\">\n",
       "  <thead>\n",
       "    <tr style=\"text-align: right;\">\n",
       "      <th></th>\n",
       "      <th>Nome</th>\n",
       "      <th>Idade</th>\n",
       "      <th>Altura</th>\n",
       "      <th>Cidade</th>\n",
       "      <th>Peso</th>\n",
       "    </tr>\n",
       "  </thead>\n",
       "  <tbody>\n",
       "    <tr>\n",
       "      <th>2</th>\n",
       "      <td>Carol</td>\n",
       "      <td>12</td>\n",
       "      <td>1.35</td>\n",
       "      <td>São Paulo</td>\n",
       "      <td>45</td>\n",
       "    </tr>\n",
       "    <tr>\n",
       "      <th>0</th>\n",
       "      <td>Alice</td>\n",
       "      <td>12</td>\n",
       "      <td>1.40</td>\n",
       "      <td>Belo Horizonte</td>\n",
       "      <td>20</td>\n",
       "    </tr>\n",
       "  </tbody>\n",
       "</table>\n",
       "</div>"
      ],
      "text/plain": [
       "    Nome  Idade  Altura          Cidade  Peso\n",
       "2  Carol     12    1.35       São Paulo    45\n",
       "0  Alice     12    1.40  Belo Horizonte    20"
      ]
     },
     "execution_count": 15,
     "metadata": {},
     "output_type": "execute_result"
    }
   ],
   "source": [
    "contatos[contatos[\"Idade\"]<18]"
   ]
  },
  {
   "cell_type": "markdown",
   "metadata": {},
   "source": [
    "**Agrupar e cal**"
   ]
  },
  {
   "cell_type": "code",
   "execution_count": 16,
   "metadata": {},
   "outputs": [
    {
     "data": {
      "text/html": [
       "<div>\n",
       "<style scoped>\n",
       "    .dataframe tbody tr th:only-of-type {\n",
       "        vertical-align: middle;\n",
       "    }\n",
       "\n",
       "    .dataframe tbody tr th {\n",
       "        vertical-align: top;\n",
       "    }\n",
       "\n",
       "    .dataframe thead th {\n",
       "        text-align: right;\n",
       "    }\n",
       "</style>\n",
       "<table border=\"1\" class=\"dataframe\">\n",
       "  <thead>\n",
       "    <tr style=\"text-align: right;\">\n",
       "      <th></th>\n",
       "      <th>Idade</th>\n",
       "      <th>Altura</th>\n",
       "      <th>Peso</th>\n",
       "    </tr>\n",
       "    <tr>\n",
       "      <th>Cidade</th>\n",
       "      <th></th>\n",
       "      <th></th>\n",
       "      <th></th>\n",
       "    </tr>\n",
       "  </thead>\n",
       "  <tbody>\n",
       "    <tr>\n",
       "      <th>Belo Horizonte</th>\n",
       "      <td>17.5</td>\n",
       "      <td>1.475</td>\n",
       "      <td>40.0</td>\n",
       "    </tr>\n",
       "    <tr>\n",
       "      <th>Rio de Janeiro</th>\n",
       "      <td>32.0</td>\n",
       "      <td>1.500</td>\n",
       "      <td>55.0</td>\n",
       "    </tr>\n",
       "    <tr>\n",
       "      <th>São Paulo</th>\n",
       "      <td>23.0</td>\n",
       "      <td>1.475</td>\n",
       "      <td>47.5</td>\n",
       "    </tr>\n",
       "  </tbody>\n",
       "</table>\n",
       "</div>"
      ],
      "text/plain": [
       "                Idade  Altura  Peso\n",
       "Cidade                             \n",
       "Belo Horizonte   17.5   1.475  40.0\n",
       "Rio de Janeiro   32.0   1.500  55.0\n",
       "São Paulo        23.0   1.475  47.5"
      ]
     },
     "execution_count": 16,
     "metadata": {},
     "output_type": "execute_result"
    }
   ],
   "source": [
    "contatos.groupby([\"Cidade\"]).mean()"
   ]
  },
  {
   "cell_type": "markdown",
   "metadata": {},
   "source": [
    "**Como cada coluna é uma série, podemos usar o value_counts**:"
   ]
  },
  {
   "cell_type": "code",
   "execution_count": 17,
   "metadata": {},
   "outputs": [
    {
     "data": {
      "text/plain": [
       "São Paulo         2\n",
       "Belo Horizonte    2\n",
       "Rio de Janeiro    1\n",
       "Name: Cidade, dtype: int64"
      ]
     },
     "execution_count": 17,
     "metadata": {},
     "output_type": "execute_result"
    }
   ],
   "source": [
    "contatos[\"Cidade\"].value_counts()"
   ]
  },
  {
   "cell_type": "markdown",
   "metadata": {},
   "source": [
    "**Visualizar os resultados**"
   ]
  },
  {
   "cell_type": "code",
   "execution_count": 19,
   "metadata": {},
   "outputs": [
    {
     "data": {
      "text/plain": [
       "<matplotlib.axes._subplots.AxesSubplot at 0xf202a70>"
      ]
     },
     "execution_count": 19,
     "metadata": {},
     "output_type": "execute_result"
    },
    {
     "data": {
      "image/png": "[encoded data removed]",
      "text/plain": [
       "<Figure size 432x288 with 2 Axes>"
      ]
     },
     "metadata": {
      "needs_background": "light"
     },
     "output_type": "display_data"
    }
   ],
   "source": [
    "contatos.plot.scatter(x='Idade',\n",
    "                       y='Altura',\n",
    "                       c='Peso',\n",
    "                     colormap='viridis')"
   ]
  },
  {
   "cell_type": "code",
   "execution_count": 20,
   "metadata": {},
   "outputs": [
    {
     "data": {
      "text/plain": [
       "<matplotlib.axes._subplots.AxesSubplot at 0x102e3b90>"
      ]
     },
     "execution_count": 20,
     "metadata": {},
     "output_type": "execute_result"
    },
    {
     "data": {
      "image/png": "[encoded data removed]",
      "text/plain": [
       "<Figure size 432x288 with 1 Axes>"
      ]
     },
     "metadata": {
      "needs_background": "light"
     },
     "output_type": "display_data"
    }
   ],
   "source": [
    "#filtra os contatos por cidade (para fazer grupos)\n",
    "contatosBH = contatos[contatos[\"Cidade\"]==\"Belo Horizonte\"]\n",
    "contatosSP = contatos[contatos[\"Cidade\"]==\"São Paulo\"]\n",
    "\n",
    "#Cria o plot com os dois grupos\n",
    "plot_gp1 = contatosBH.plot.scatter(x='Idade', y='Altura', color='DarkBlue', label='BH')\n",
    "contatosSP.plot.scatter(x='Idade', y='Altura', color='Red', label='SP',ax=plot_gp1)"
   ]
  },
  {
   "cell_type": "markdown",
   "metadata": {},
   "source": [
    "Veja: [documentação](https://pandas.pydata.org/pandas-docs/stable/reference/api/pandas.DataFrame.plot.html), [exemplos](https://towardsdatascience.com/a-guide-to-pandas-and-matplotlib-for-data-exploration-56fad95f951c) e [mais exemplos](https://pandas.pydata.org/pandas-docs/stable/user_guide/visualization.html)"
   ]
  }
 ],
 "metadata": {
  "kernelspec": {
   "display_name": "Python 3",
   "language": "python",
   "name": "python3"
  },
  "language_info": {
   "codemirror_mode": {
    "name": "ipython",
    "version": 3
   },
   "file_extension": ".py",
   "mimetype": "text/x-python",
   "name": "python",
   "nbconvert_exporter": "python",
   "pygments_lexer": "ipython3",
   "version": "3.7.4"
  }
 },
 "nbformat": 4,
 "nbformat_minor": 2
}
