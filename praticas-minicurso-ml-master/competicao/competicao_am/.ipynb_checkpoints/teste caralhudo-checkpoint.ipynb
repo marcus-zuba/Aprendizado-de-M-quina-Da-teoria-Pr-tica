{
 "cells": [
  {
   "cell_type": "code",
   "execution_count": 1,
   "metadata": {},
   "outputs": [
    {
     "name": "stdout",
     "output_type": "stream",
     "text": [
      "0/3000\n",
      "1000/3000\n",
      "2000/3000\n",
      "0/10\n"
     ]
    },
    {
     "name": "stderr",
     "output_type": "stream",
     "text": [
      "/home/marcus/.local/lib/python3.8/site-packages/sklearn/svm/_base.py:976: ConvergenceWarning: Liblinear failed to converge, increase the number of iterations.\n",
      "  warnings.warn(\"Liblinear failed to converge, increase \"\n"
     ]
    }
   ],
   "source": [
    "import pandas as pd\n",
    "from gerar_resultado_teste import gerar_saida_teste\n",
    "\n",
    "#altere aqui para o número correspondente ao seu grupo\n",
    "num_grupo = 13\n",
    "\n",
    "#leia o dataset fornecido pelo professor (coloquei apenas um exemplo, na entrega, será outro)\n",
    "df_amostra_teste = pd.read_csv(\"../datasets/movies_amostra_teste_ex.csv\")\n",
    "\n",
    "gerar_saida_teste(df_amostra_teste,\"genero\", num_grupo)"
   ]
  }
 ],
 "metadata": {
  "kernelspec": {
   "display_name": "Python 3",
   "language": "python",
   "name": "python3"
  },
  "language_info": {
   "codemirror_mode": {
    "name": "ipython",
    "version": 3
   },
   "file_extension": ".py",
   "mimetype": "text/x-python",
   "name": "python",
   "nbconvert_exporter": "python",
   "pygments_lexer": "ipython3",
   "version": "3.8.2"
  }
 },
 "nbformat": 4,
 "nbformat_minor": 4
}
