{
 "cells": [
  {
   "cell_type": "markdown",
   "metadata": {},
   "source": [
    "## Antes de começar..."
   ]
  },
  {
   "cell_type": "markdown",
   "metadata": {},
   "source": [
    "Lembre-se, que em python, podemos passar inclusive classes por parametros:"
   ]
  },
  {
   "cell_type": "code",
   "execution_count": 1,
   "metadata": {},
   "outputs": [
    {
     "name": "stdout",
     "output_type": "stream",
     "text": [
      "Numero: 99\n",
      "Numero: 101\n"
     ]
    }
   ],
   "source": [
    "class Xuxu:\n",
    "    def __init__(self, num):\n",
    "        self.num = num-1\n",
    "class Xaxa:\n",
    "    def __init__(self, num):\n",
    "        self.num = num+1\n",
    "\n",
    "def kaka(ClasseXuxuOuXaxa):\n",
    "    obj = ClasseXuxuOuXaxa(100)\n",
    "    print(f\"Numero: {obj.num}\")\n",
    "\n",
    "kaka(Xuxu)\n",
    "kaka(Xaxa)"
   ]
  },
  {
   "cell_type": "markdown",
   "metadata": {},
   "source": [
    "## Avaliação e Otimização de Parametros"
   ]
  },
  {
   "cell_type": "markdown",
   "metadata": {},
   "source": [
    "Cada método possui alguns parametros a serem ajustados. Alguns parametros são essenciais para, por exemplo, diminuir o _overfitting_ e conseguirmos um modelo que faça predições com menos erros possíveis. Assim, dado os parametros $(p_1, p_2, p_3)$ nosso objetivo é encontrar uma solução ótima, ou seja, valores de $p_1$, $p_2$ e $p_3$ que maximiza o resultado (por meio de Macro F1 ou acurácia, por exemplo).\n",
    "\n",
    "Por exemplo, a implementação de árvore de decisão do Scikitlearn, temos o parametro `min_samples` que define o mínimo de exemplos necessários para que um nodo da árvore efetue a divisão. Como é inviável testarmos todos os paramtros podemos variá-lo, por exemplo, de 0.1 em 0.1 passos entre 0.1 e 0.9 para tentarmos encontrar a solução ótima. \n",
    "\n",
    "O algoritmo RandomForest possui mais parametros além do `min_samples_split` (que é o equivalente ao min_samples da árvore de decisão), por exemplo, a porcentagem de atributos (features) que será considerada para a divisão  de uma determinada árvore (`max_features`). Como esses dois parametros afetam muito o resultado, nosso *objetivo* é encontrar o valor `min_samples_split` e `max_features` que *maximizam* o resultado. Similarmente a uma arvore de decisão, como o treinamento de um método de aprendizado de máquina é custoso, avaliar muitos parametros pode ser inviável, por isso, poderiamos variar cada parametro da seguinte forma: \n",
    "\n",
    "- min_samples_split: {0.1, 0,2, ...,0.9}\n",
    "- max_features: {0.1, 0,2, ...,0.9}\n",
    "\n",
    "Com essa quantidade de parametro podemos fazer um [GridSearch]() nele, testamos todas as combinações ou seja, para cada `min_sample_split`, você testará todos os valores `max_features` (${0.1, 0,2, ...,0.9}$). Porém, mesmo assim, o GridSearch pode ficar inviável se quiséssemos colocar mais parametros. Por  exemplo, um outro parametro importante neste método é o número de árvores que o algoritmo irá utilizar (`n_estimators`) que poderiamos variar da seguinte forma:\n",
    "\n",
    "- n_estimators: {1, 20, 40, 60, 80, 100}\n",
    "\n",
    "Porém, mesmo com apenas 5 valores, a quantidade de combinações que precisariamos testar seria 5 vezes mais.  Além disso, não conseguimos explorar bem o espaço de busca. Por exemplo, vamos supor que a solução ótima seria com 30 árvores, max_features=0.15 e min_samples_split=0.35, ou seja, esta seria a solução que maximizaria o resultado. Usando a variação acima, não conseguiriamos encontrá-la. \n",
    "\n",
    "Uma das formas de conseguir explorar melhor o espaço quando temos muitas dimensões é, ao invés de fazer um GridSearch, fazermos um RandomSearch. Nele, é sorteado aleatoriamente valores para cada um dos parametros. Por exemplo:"
   ]
  },
  {
   "cell_type": "code",
   "execution_count": 2,
   "metadata": {},
   "outputs": [
    {
     "name": "stdout",
     "output_type": "stream",
     "text": [
      "Possíveis soluções a serem testadas:\n",
      "(0.207491395289921,0.7779469895497861,783)\n",
      "(0.15048545751016748,0.19433496293684885,780)\n",
      "(0.4595928518309905,0.6212743781782104,808)\n",
      "(0.26796384509718174,0.4902853252193181,915)\n",
      "(0.7686120831358958,0.4462136543240427,781)\n",
      "(0.7137261033183696,0.6566662934147548,273)\n",
      "(0.6772320258726261,0.2830097770163621,968)\n",
      "(0.1817817264880386,0.35394370574110734,23)\n",
      "(0.12035668879476864,0.5331299782347972,962)\n",
      "(0.8049870871377244,0.6491870833432638,993)\n"
     ]
    }
   ],
   "source": [
    "import random\n",
    "n_combinacoes = 10\n",
    "random.seed(1)\n",
    "print(\"Possíveis soluções a serem testadas:\")\n",
    "for i in range(n_combinacoes):\n",
    "    min_samples_split = random.uniform(0.1,0.9)\n",
    "    max_features = random.uniform(0.1,0.9)\n",
    "    n_estimators = random.randint(1,1000)\n",
    "    print(f\"({min_samples_split},{max_features},{n_estimators})\")"
   ]
  },
  {
   "cell_type": "markdown",
   "metadata": {},
   "source": [
    "Podemos ainda melhorar essa busca ao usar o algoritmo Tree-Structured Parzen Estimator (TPE). De forma similar ao RandomSearch, esse algoritmo também sorteia aleoriamente valores. Porém, os valores não são totalmente aleatórios. Inicialmente, gera-se $c$ combinações totalmente aleatórias e, logo após, será gerado outras opções também aleatórias porém com uma probabilidade maior de ser sorteado soluções:\n",
    "\n",
    "- próxima a locais com bons resultados \n",
    "- próxima a regiões que ainda não foram exploradas\n",
    "\n",
    "[Veja um video explicativo aqui](https://www.youtube.com/watch?v=cWyuUpZfZl0&list=PLwIaU1DGYV6tUx10fCTw5aPnqypbbK_GJ&index=32) - ele demonstra o uso em parametros de redes neurais profundas, porém, a ideia é a mesma. Ao ver o video, é interessante notar que em redes neurais profundas, chamamos tais parametros de hiperparametros. [Veja também um texto sobre ajustes de parametros (em inglês)](https://medium.com/criteo-labs/hyper-parameter-optimization-algorithms-2fe447525903).\n",
    "\n",
    "Nem sempre o TPE é melhor que o Grid Search. Depende muito do problema, da quantidade e sensibilidade dos parametros e do método de aprendizado de máquina. A única forma de descobrir qual é o melhor é avaliando ambos também ;)."
   ]
  },
  {
   "cell_type": "markdown",
   "metadata": {},
   "source": [
    "### Optuna e otimização de parametros"
   ]
  },
  {
   "cell_type": "markdown",
   "metadata": {},
   "source": [
    "O Optuna é uma biblioteca que facilita a otimização de parametros. Para simplificar, considere a função $f(x) = -2x^2 + x + 4$ em que desejamos maximizar $f(x)$ e, neste caso, nosso parametro é o $x$. Assim, em outras palavras, temos que achar qual valor de $x$ obtém o maior resultado possível dessa função. Veja a representação grafica dessa função com a solução ótima encontrada:\n"
   ]
  },
  {
   "cell_type": "code",
   "execution_count": 3,
   "metadata": {},
   "outputs": [
    {
     "data": {
      "image/png": "[encoded data removed]",
      "text/plain": [
       "<Figure size 432x288 with 1 Axes>"
      ]
     },
     "metadata": {
      "needs_background": "light"
     },
     "output_type": "display_data"
    }
   ],
   "source": [
    "import matplotlib.pyplot as plt\n",
    "import numpy as np\n",
    "\n",
    "def desenha_funcao(limit_inf=-4,limit_sup=4):\n",
    "    # create 1000 equally spaced points between -10 and 10\n",
    "    x = np.linspace(limit_inf, limit_sup, 100)\n",
    "\n",
    "    # calculate the y value for each element of the x vector\n",
    "    y = -2* x**2 + x + 4\n",
    "\n",
    "    plt.plot(x, y)\n",
    "    plt.scatter(0.25,4.125,marker=\"o\")\n",
    "desenha_funcao()"
   ]
  },
  {
   "cell_type": "markdown",
   "metadata": {},
   "source": [
    "O optuna testará, com uma determinada estratégia, vários valores de $x$ com  o objetivo de encontrar esse ponto ótimo. \n",
    "\n",
    "Para isso, você deve criar uma **função objetivo** ou seja, uma função python que calcula o função $f(x)$ por meio de um $x$ escolhido com uma determinada estratégia (aleatório, por exemplo) para a tentativa especifica (definida pelo objeto [trial](https://optuna.readthedocs.io/en/latest/reference/trial.html))."
   ]
  },
  {
   "cell_type": "code",
   "execution_count": 4,
   "metadata": {},
   "outputs": [],
   "source": [
    "import optuna\n",
    "def funcao_objetivo(trial: optuna.Trial):\n",
    "    #trial: é a tentativa atual\n",
    "    #sugggest uniform: função que sugere-se uma escolha de x aleatorio \n",
    "    #de forma uniforme (ou seja, todos os valores tem a mesma chance de ser escolhidos)\n",
    "    #pq é uma sugestão: Dependendo da estrategia de busca, esse parametro pode nao ser uniformemente escolhido\n",
    "    x = trial.suggest_uniform('x', -10, 10)\n",
    "    return -2* x**2 + x + 4"
   ]
  },
  {
   "cell_type": "markdown",
   "metadata": {},
   "source": [
    "Assim, pode-se instanciar um estudo  de parametros (objeto da classe [Study](https://optuna.readthedocs.io/en/latest/reference/study.html)) que efetua uma busca aleatória do parametro $x$, passando a função objetivo como parametro: "
   ]
  },
  {
   "cell_type": "code",
   "execution_count": 5,
   "metadata": {},
   "outputs": [
    {
     "name": "stderr",
     "output_type": "stream",
     "text": [
      "[I 2020-07-27 21:39:22,464] Finished trial#0 with value: -3.1678380688122374 with parameters: {'x': -1.6595599059485195}. Best is trial#0 with value: -3.1678380688122374.\n",
      "[I 2020-07-27 21:39:22,511] Finished trial#1 with value: -30.427816059591684 with parameters: {'x': 4.4064898688431615}. Best is trial#0 with value: -3.1678380688122374.\n",
      "[I 2020-07-27 21:39:22,559] Finished trial#2 with value: -205.90622311505624 with parameters: {'x': -9.997712503653101}. Best is trial#0 with value: -3.1678380688122374.\n",
      "[I 2020-07-27 21:39:22,605] Finished trial#3 with value: -31.211278021240723 with parameters: {'x': -3.9533485473632046}. Best is trial#0 with value: -3.1678380688122374.\n",
      "[I 2020-07-27 21:39:22,652] Finished trial#4 with value: -102.89000272158682 with parameters: {'x': -7.064882183657739}. Best is trial#0 with value: -3.1678380688122374.\n",
      "[I 2020-07-27 21:39:22,703] Finished trial#5 with value: -137.10348515668684 with parameters: {'x': -8.153228104624045}. Best is trial#0 with value: -3.1678380688122374.\n",
      "[I 2020-07-27 21:39:22,757] Finished trial#6 with value: -81.02091974427358 with parameters: {'x': -6.274795772446582}. Best is trial#0 with value: -3.1678380688122374.\n",
      "[I 2020-07-27 21:39:22,806] Finished trial#7 with value: -18.169976684316644 with parameters: {'x': -3.0887854591390447}. Best is trial#0 with value: -3.1678380688122374.\n",
      "[I 2020-07-27 21:39:22,855] Finished trial#8 with value: -6.590214016758917 with parameters: {'x': -2.0646505153866013}. Best is trial#0 with value: -3.1678380688122374.\n",
      "[I 2020-07-27 21:39:22,905] Finished trial#9 with value: 3.5709436091172453 with parameters: {'x': 0.7763346800671389}. Best is trial#9 with value: 3.5709436091172453.\n",
      "[I 2020-07-27 21:39:22,955] Finished trial#10 with value: -2.8397309139495714 with parameters: {'x': -1.6161097119341044}. Best is trial#9 with value: 3.5709436091172453.\n",
      "[I 2020-07-27 21:39:23,002] Finished trial#11 with value: -19.74062065384497 with parameters: {'x': 3.7043900079351904}. Best is trial#9 with value: 3.5709436091172453.\n",
      "[I 2020-07-27 21:39:23,047] Finished trial#12 with value: -71.7897331563787 with parameters: {'x': -5.910955005369651}. Best is trial#9 with value: 3.5709436091172453.\n",
      "[I 2020-07-27 21:39:23,095] Finished trial#13 with value: -102.81588783446958 with parameters: {'x': 7.562348727818907}. Best is trial#9 with value: 3.5709436091172453.\n",
      "[I 2020-07-27 21:39:23,143] Finished trial#14 with value: -184.14223778664058 with parameters: {'x': -9.452248136041476}. Best is trial#9 with value: 3.5709436091172453.\n",
      "[I 2020-07-27 21:39:23,189] Finished trial#15 with value: -15.837987417570886 with parameters: {'x': 3.409350203568044}. Best is trial#9 with value: 3.5709436091172453.\n",
      "[I 2020-07-27 21:39:23,232] Finished trial#16 with value: -3.124700521889401 with parameters: {'x': -1.6539039526574602}. Best is trial#9 with value: 3.5709436091172453.\n",
      "[I 2020-07-27 21:39:23,280] Finished trial#17 with value: 2.418199798521623 with parameters: {'x': 1.1737965689150336}. Best is trial#9 with value: 3.5709436091172453.\n",
      "[I 2020-07-27 21:39:23,327] Finished trial#18 with value: -106.64950437442184 with parameters: {'x': -7.192261228095324}. Best is trial#9 with value: 3.5709436091172453.\n",
      "[I 2020-07-27 21:39:23,372] Finished trial#19 with value: -74.95213893251648 with parameters: {'x': -6.037970218302425}. Best is trial#9 with value: 3.5709436091172453.\n",
      "[I 2020-07-27 21:39:23,417] Finished trial#20 with value: -62.34294509675691 with parameters: {'x': 6.014891373510732}. Best is trial#9 with value: 3.5709436091172453.\n",
      "[I 2020-07-27 21:39:23,467] Finished trial#21 with value: -162.0498911217825 with parameters: {'x': 9.36523151438795}. Best is trial#9 with value: 3.5709436091172453.\n",
      "[I 2020-07-27 21:39:23,516] Finished trial#22 with value: -27.579946273258308 with parameters: {'x': -3.7315164368151432}. Best is trial#9 with value: 3.5709436091172453.\n",
      "[I 2020-07-27 21:39:23,565] Finished trial#23 with value: -21.74393848492307 with parameters: {'x': 3.8464523133862816}. Best is trial#9 with value: 3.5709436091172453.\n",
      "[I 2020-07-27 21:39:23,616] Finished trial#24 with value: -101.80725212698351 with parameters: {'x': 7.527783045920767}. Best is trial#9 with value: 3.5709436091172453.\n",
      "[I 2020-07-27 21:39:23,663] Finished trial#25 with value: -112.67940183523393 with parameters: {'x': 7.892133270076947}. Best is trial#9 with value: 3.5709436091172453.\n",
      "[I 2020-07-27 21:39:23,710] Finished trial#26 with value: -142.04976098678807 with parameters: {'x': -8.299115772604441}. Best is trial#9 with value: 3.5709436091172453.\n",
      "[I 2020-07-27 21:39:23,759] Finished trial#27 with value: -175.19529862373042 with parameters: {'x': -9.218904335342353}. Best is trial#9 with value: 3.5709436091172453.\n",
      "[I 2020-07-27 21:39:23,810] Finished trial#28 with value: -89.8129530846355 with parameters: {'x': -6.6033916087086215}. Best is trial#9 with value: 3.5709436091172453.\n",
      "[I 2020-07-27 21:39:23,860] Finished trial#29 with value: -102.83055225130268 with parameters: {'x': 7.562850068588261}. Best is trial#9 with value: 3.5709436091172453.\n"
     ]
    }
   ],
   "source": [
    "from optuna.samplers import RandomSampler\n",
    "#nossa funcao sera de maximizacao (por isso direction=maximize)\n",
    "#o sampler que define a estratégia de busca. \n",
    "#Neste caso, será feita uma busca totalmente aleatória\n",
    "study_random = optuna.create_study(sampler=RandomSampler(seed=1), direction=\"maximize\")\n",
    "#colocamos 30 tentativas\n",
    "study_random.optimize(funcao_objetivo, n_trials=30)"
   ]
  },
  {
   "cell_type": "markdown",
   "metadata": {},
   "source": [
    "Veja os pontos analisados e a melhor solução encontrada usando esse método além da comparação com o valor ótimo (que seria 0.25): "
   ]
  },
  {
   "cell_type": "code",
   "execution_count": 6,
   "metadata": {},
   "outputs": [
    {
     "name": "stdout",
     "output_type": "stream",
     "text": [
      "Melhor ponto: 0.7763346800671389 ponto ótimo: 0.25 diferença: 0.5263346800671389\n"
     ]
    },
    {
     "data": {
      "image/png": "[encoded data removed]",
      "text/plain": [
       "<Figure size 432x288 with 1 Axes>"
      ]
     },
     "metadata": {
      "needs_background": "light"
     },
     "output_type": "display_data"
    }
   ],
   "source": [
    "def plot_best_trials(study,x_otimo):\n",
    "    desenha_funcao()\n",
    "\n",
    "    #obtem o valor de paramtro x e o resultado para cada tentativa testada e armazena no vetor\n",
    "    #para cada um desses valores, plota no grafico \n",
    "    for trial in study.get_trials():\n",
    "        x = trial.params[\"x\"]\n",
    "        y = trial.value\n",
    "        #apresenta apenas pontos com diferença < 20 do ponto otimo\n",
    "        diff_otimo = abs(x_otimo-x)\n",
    "        plt.scatter(x, y,marker=\"o\")\n",
    "    best_x = study.best_trial.params['x']\n",
    "    print(f\"Melhor ponto: {best_x} ponto ótimo: {x_otimo} diferença: {abs(best_x-x_otimo)}\")\n",
    "plot_best_trials(study_random,0.25)"
   ]
  },
  {
   "cell_type": "markdown",
   "metadata": {},
   "source": [
    "Veja que, com a busca aleatória, encontramos um valor muito diferente do ideal. Agora, se fizermos uma busca usando o método Tree Partzen Estimator:"
   ]
  },
  {
   "cell_type": "code",
   "execution_count": 7,
   "metadata": {},
   "outputs": [
    {
     "name": "stderr",
     "output_type": "stream",
     "text": [
      "[I 2020-07-27 21:39:24,324] Finished trial#0 with value: -3.1678380688122374 with parameters: {'x': -1.6595599059485195}. Best is trial#0 with value: -3.1678380688122374.\n",
      "[I 2020-07-27 21:39:24,367] Finished trial#1 with value: -30.427816059591684 with parameters: {'x': 4.4064898688431615}. Best is trial#0 with value: -3.1678380688122374.\n",
      "[I 2020-07-27 21:39:24,411] Finished trial#2 with value: -205.90622311505624 with parameters: {'x': -9.997712503653101}. Best is trial#0 with value: -3.1678380688122374.\n",
      "[I 2020-07-27 21:39:24,459] Finished trial#3 with value: -31.211278021240723 with parameters: {'x': -3.9533485473632046}. Best is trial#0 with value: -3.1678380688122374.\n",
      "[I 2020-07-27 21:39:24,503] Finished trial#4 with value: -102.89000272158682 with parameters: {'x': -7.064882183657739}. Best is trial#0 with value: -3.1678380688122374.\n",
      "[I 2020-07-27 21:39:24,549] Finished trial#5 with value: -137.10348515668684 with parameters: {'x': -8.153228104624045}. Best is trial#0 with value: -3.1678380688122374.\n",
      "[I 2020-07-27 21:39:24,594] Finished trial#6 with value: -81.02091974427358 with parameters: {'x': -6.274795772446582}. Best is trial#0 with value: -3.1678380688122374.\n",
      "[I 2020-07-27 21:39:24,641] Finished trial#7 with value: -18.169976684316644 with parameters: {'x': -3.0887854591390447}. Best is trial#0 with value: -3.1678380688122374.\n",
      "[I 2020-07-27 21:39:24,689] Finished trial#8 with value: -6.590214016758917 with parameters: {'x': -2.0646505153866013}. Best is trial#0 with value: -3.1678380688122374.\n",
      "[I 2020-07-27 21:39:24,736] Finished trial#9 with value: 3.5709436091172453 with parameters: {'x': 0.7763346800671389}. Best is trial#9 with value: 3.5709436091172453.\n",
      "[I 2020-07-27 21:39:24,802] Finished trial#10 with value: -170.65527760897447 with parameters: {'x': 9.598269294606743}. Best is trial#9 with value: 3.5709436091172453.\n",
      "[I 2020-07-27 21:39:24,853] Finished trial#11 with value: -3.903759585800641 with parameters: {'x': 2.253591723106362}. Best is trial#9 with value: 3.5709436091172453.\n",
      "[I 2020-07-27 21:39:24,902] Finished trial#12 with value: 1.8236069680017408 with parameters: {'x': 1.3227052325774913}. Best is trial#9 with value: 3.5709436091172453.\n",
      "[I 2020-07-27 21:39:24,955] Finished trial#13 with value: -57.771573523028025 with parameters: {'x': 5.81311843856609}. Best is trial#9 with value: 3.5709436091172453.\n",
      "[I 2020-07-27 21:39:25,002] Finished trial#14 with value: 1.823065926624384 with parameters: {'x': 1.322831317909674}. Best is trial#9 with value: 3.5709436091172453.\n",
      "[I 2020-07-27 21:39:25,051] Finished trial#15 with value: -113.07338153578428 with parameters: {'x': 7.905010827418348}. Best is trial#9 with value: 3.5709436091172453.\n",
      "[I 2020-07-27 21:39:25,099] Finished trial#16 with value: -17.575574003739806 with parameters: {'x': 3.543977383327017}. Best is trial#9 with value: 3.5709436091172453.\n",
      "[I 2020-07-27 21:39:25,149] Finished trial#17 with value: 3.840525807192952 with parameters: {'x': -0.12714333668185618}. Best is trial#17 with value: 3.840525807192952.\n",
      "[I 2020-07-27 21:39:25,199] Finished trial#18 with value: 3.3145297614067615 with parameters: {'x': -0.38658080343081286}. Best is trial#17 with value: 3.840525807192952.\n",
      "[I 2020-07-27 21:39:25,246] Finished trial#19 with value: -51.28174218902672 with parameters: {'x': -5.0133991958157}. Best is trial#17 with value: 3.840525807192952.\n",
      "[I 2020-07-27 21:39:25,292] Finished trial#20 with value: -52.92154036828853 with parameters: {'x': 5.5907181337479575}. Best is trial#17 with value: 3.840525807192952.\n",
      "[I 2020-07-27 21:39:25,343] Finished trial#21 with value: 3.426782789835765 with parameters: {'x': -0.34085413181437385}. Best is trial#17 with value: 3.840525807192952.\n",
      "[I 2020-07-27 21:39:25,389] Finished trial#22 with value: 3.6630301900256494 with parameters: {'x': -0.23060888983369338}. Best is trial#17 with value: 3.840525807192952.\n",
      "[I 2020-07-27 21:39:25,438] Finished trial#23 with value: 4.109237344758765 with parameters: {'x': 0.1612231583090628}. Best is trial#23 with value: 4.109237344758765.\n",
      "[I 2020-07-27 21:39:25,486] Finished trial#24 with value: -2.932842992823412 with parameters: {'x': -1.628542386109961}. Best is trial#23 with value: 4.109237344758765.\n",
      "[I 2020-07-27 21:39:25,536] Finished trial#25 with value: -6.387243546259825 with parameters: {'x': 2.542623338695197}. Best is trial#23 with value: 4.109237344758765.\n",
      "[I 2020-07-27 21:39:25,587] Finished trial#26 with value: 3.501226603634844 with parameters: {'x': -0.30846817114548086}. Best is trial#23 with value: 4.109237344758765.\n",
      "[I 2020-07-27 21:39:25,636] Finished trial#27 with value: -22.301813717868164 with parameters: {'x': -3.385025014897983}. Best is trial#23 with value: 4.109237344758765.\n",
      "[I 2020-07-27 21:39:25,688] Finished trial#28 with value: -26.60839334119051 with parameters: {'x': 4.170037840454509}. Best is trial#23 with value: 4.109237344758765.\n",
      "[I 2020-07-27 21:39:25,735] Finished trial#29 with value: -3.029589385533958 with parameters: {'x': -1.6413737580835204}. Best is trial#23 with value: 4.109237344758765.\n"
     ]
    }
   ],
   "source": [
    "from optuna.samplers import TPESampler\n",
    "#Para o TPE, é importante passar o numero de tentativas iniciais\n",
    "#essas serão as unicas que serão totalmente aleatorias para explorar o espaço\n",
    "tpe_sampler = TPESampler(n_startup_trials = 10,seed=1)\n",
    "study_TP = optuna.create_study(sampler=tpe_sampler, direction=\"maximize\")\n",
    "#colocamos 30 tentativas (destas, 10 serão aleatorias e, o restante, considerando o algoritmo)\n",
    "study_TP.optimize(funcao_objetivo, n_trials=30)"
   ]
  },
  {
   "cell_type": "code",
   "execution_count": 8,
   "metadata": {},
   "outputs": [
    {
     "name": "stdout",
     "output_type": "stream",
     "text": [
      "Melhor ponto: 0.1612231583090628 ponto ótimo: 0.25 diferença: 0.08877684169093719\n"
     ]
    },
    {
     "data": {
      "image/png": "[encoded data removed]",
      "text/plain": [
       "<Figure size 432x288 with 1 Axes>"
      ]
     },
     "metadata": {
      "needs_background": "light"
     },
     "output_type": "display_data"
    }
   ],
   "source": [
    "plot_best_trials(study_TP,0.25)"
   ]
  },
  {
   "cell_type": "markdown",
   "metadata": {},
   "source": [
    "Veja que na busca usando o TPE houveram mais tentativas próximas ao ponto ótimo e a melhor solução ficou muito mais próxima ao ponto ótimo."
   ]
  },
  {
   "cell_type": "markdown",
   "metadata": {},
   "source": [
    "## Optuna em um método de aprendizado de máquina"
   ]
  },
  {
   "cell_type": "markdown",
   "metadata": {},
   "source": [
    "Fizemos um exemplo ilustrativo e agora iremos mostrar como aplicar Optuna para avaliar parametros de um método de aprendizado de Máquina. O Optuna será aplicado em um fold. Ou seja, para um determinado fold, deverá ser avaliado qual é o melhor parametro, sempre usando os folds de validação desse fold. \n",
    "\n",
    "Veja um esqueleto do código que poderia ser feito, usando uma função dentro da outra:"
   ]
  },
  {
   "cell_type": "code",
   "execution_count": 9,
   "metadata": {},
   "outputs": [
    {
     "name": "stderr",
     "output_type": "stream",
     "text": [
      "[I 2020-07-27 21:39:26,171] Finished trial#0 with value: 0.5 with parameters: {'x': -1.6595599059485195}. Best is trial#0 with value: 0.5.\n",
      "[I 2020-07-27 21:39:26,222] Finished trial#1 with value: 0.5 with parameters: {'x': 4.4064898688431615}. Best is trial#0 with value: 0.5.\n",
      "[I 2020-07-27 21:39:26,269] Finished trial#2 with value: 0.5 with parameters: {'x': -9.997712503653101}. Best is trial#0 with value: 0.5.\n",
      "[I 2020-07-27 21:39:26,313] Finished trial#3 with value: 0.5 with parameters: {'x': -3.9533485473632046}. Best is trial#0 with value: 0.5.\n",
      "[I 2020-07-27 21:39:26,359] Finished trial#4 with value: 0.5 with parameters: {'x': -7.064882183657739}. Best is trial#0 with value: 0.5.\n",
      "[I 2020-07-27 21:39:26,412] Finished trial#5 with value: 0.5 with parameters: {'x': -8.153228104624045}. Best is trial#0 with value: 0.5.\n",
      "[I 2020-07-27 21:39:26,465] Finished trial#6 with value: 0.5 with parameters: {'x': -6.274795772446582}. Best is trial#0 with value: 0.5.\n",
      "[I 2020-07-27 21:39:26,514] Finished trial#7 with value: 0.5 with parameters: {'x': -3.0887854591390447}. Best is trial#0 with value: 0.5.\n",
      "[I 2020-07-27 21:39:26,565] Finished trial#8 with value: 0.5 with parameters: {'x': -2.0646505153866013}. Best is trial#0 with value: 0.5.\n",
      "[I 2020-07-27 21:39:26,615] Finished trial#9 with value: 0.5 with parameters: {'x': 0.7763346800671389}. Best is trial#0 with value: 0.5.\n",
      "[I 2020-07-27 21:39:26,668] Finished trial#10 with value: 0.5 with parameters: {'x': 9.758419672936258}. Best is trial#0 with value: 0.5.\n",
      "[I 2020-07-27 21:39:26,715] Finished trial#11 with value: 0.5 with parameters: {'x': 3.801079341293411}. Best is trial#0 with value: 0.5.\n",
      "[I 2020-07-27 21:39:26,765] Finished trial#12 with value: 0.5 with parameters: {'x': 5.438919459128679}. Best is trial#0 with value: 0.5.\n",
      "[I 2020-07-27 21:39:26,814] Finished trial#13 with value: 0.5 with parameters: {'x': 2.5544711625313443}. Best is trial#0 with value: 0.5.\n",
      "[I 2020-07-27 21:39:26,862] Finished trial#14 with value: 0.5 with parameters: {'x': 9.66385588886616}. Best is trial#0 with value: 0.5.\n",
      "[I 2020-07-27 21:39:26,911] Finished trial#15 with value: 0.5 with parameters: {'x': 6.9533719340705336}. Best is trial#0 with value: 0.5.\n",
      "[I 2020-07-27 21:39:26,960] Finished trial#16 with value: 0.5 with parameters: {'x': -0.9140030079463146}. Best is trial#0 with value: 0.5.\n",
      "[I 2020-07-27 21:39:27,009] Finished trial#17 with value: 0.5 with parameters: {'x': 8.69128196407393}. Best is trial#0 with value: 0.5.\n",
      "[I 2020-07-27 21:39:27,063] Finished trial#18 with value: 0.5 with parameters: {'x': 7.077208419496685}. Best is trial#0 with value: 0.5.\n",
      "[I 2020-07-27 21:39:27,116] Finished trial#19 with value: 0.5 with parameters: {'x': -1.0500745652694579}. Best is trial#0 with value: 0.5.\n",
      "[I 2020-07-27 21:39:27,168] Finished trial#20 with value: 0.5 with parameters: {'x': 1.1653078698484731}. Best is trial#0 with value: 0.5.\n",
      "[I 2020-07-27 21:39:27,221] Finished trial#21 with value: 0.5 with parameters: {'x': 7.542315073429344}. Best is trial#0 with value: 0.5.\n",
      "[I 2020-07-27 21:39:27,273] Finished trial#22 with value: 0.5 with parameters: {'x': -4.712527744020569}. Best is trial#0 with value: 0.5.\n",
      "[I 2020-07-27 21:39:27,325] Finished trial#23 with value: 0.5 with parameters: {'x': 0.8833182441747445}. Best is trial#0 with value: 0.5.\n",
      "[I 2020-07-27 21:39:27,374] Finished trial#24 with value: 0.5 with parameters: {'x': 2.0213637868706646}. Best is trial#0 with value: 0.5.\n",
      "[I 2020-07-27 21:39:27,428] Finished trial#25 with value: 0.5 with parameters: {'x': -4.366380304133717}. Best is trial#0 with value: 0.5.\n",
      "[I 2020-07-27 21:39:27,486] Finished trial#26 with value: 0.5 with parameters: {'x': -5.167777685395999}. Best is trial#0 with value: 0.5.\n",
      "[I 2020-07-27 21:39:27,538] Finished trial#27 with value: 0.5 with parameters: {'x': 2.1392390739196254}. Best is trial#0 with value: 0.5.\n",
      "[I 2020-07-27 21:39:27,588] Finished trial#28 with value: 0.5 with parameters: {'x': -2.5714174053669514}. Best is trial#0 with value: 0.5.\n",
      "[I 2020-07-27 21:39:27,636] Finished trial#29 with value: 0.5 with parameters: {'x': -5.557131699603913}. Best is trial#0 with value: 0.5.\n"
     ]
    },
    {
     "name": "stdout",
     "output_type": "stream",
     "text": [
      "Melhor execução: {'x': -1.6595599059485195}\n"
     ]
    }
   ],
   "source": [
    "from optuna.samplers import TPESampler\n",
    "import optuna \n",
    "from tests import Dados\n",
    "from resultado import Fold\n",
    "\n",
    "def executa_fold(fold):\n",
    "    \n",
    "    def objetivo_ap_de_maquina(trial: optuna.Trial):\n",
    "        #suponha que temos o parametro x para ajustar\n",
    "        x = trial.suggest_uniform('x', -10, 10)\n",
    "        \n",
    "        #navega em cada um dos folds de validação \n",
    "        soma = 0\n",
    "        for fold_validacao in fold.arr_folds_validacao:\n",
    "            #1. roda um metodo de aprendizado de maquina para o fold_validacao \n",
    "            #usando o parametro x\n",
    "            \n",
    "            #2. armazena resultado em resultado fold\n",
    "            resultado_fold = 0.5#colcoamos um resultado fixo para funcionar\n",
    "            \n",
    "            #3. faz o somatorio para a media\n",
    "            soma += resultado_fold\n",
    "        #4. a funcao objetivo é retornada como a media dos folds de validação\n",
    "        return soma/len(fold.arr_folds_validacao)\n",
    "    \n",
    "    tpe_sampler = TPESampler(n_startup_trials = 10,seed=1)\n",
    "    study_TP = optuna.create_study(sampler=tpe_sampler, direction=\"maximize\")\n",
    "    #colocamos 30 tentativas (destas, 10 serão aleatorias e, o restante, considerando o algoritmo)\n",
    "    study_TP.optimize(objetivo_ap_de_maquina, n_trials=30)\n",
    "    \n",
    "    print(f\"Melhor execução: {study_TP.best_trial.params}\")\n",
    "    #aplica o melhor parametro no teste\n",
    "    #...\n",
    "fold = Fold(Dados.df_treino,Dados.df_teste,\"realClass\",num_folds_validacao=5,num_repeticoes_validacao=2)\n",
    "executa_fold(fold)"
   ]
  },
  {
   "cell_type": "markdown",
   "metadata": {},
   "source": [
    "Não se preocupe que o resultado que ésempre o mesmo, pois implementamos apenas o esqueleto do codigo e deixamos o resultado fixo como \"0.5\". No lugar disso, deveriamos colocar o resultado do método de aprendizado de máquina (como acurária ou macro f1, por exemplo)."
   ]
  },
  {
   "cell_type": "markdown",
   "metadata": {},
   "source": [
    "O código não ficou tão bom pois, como não podemos criar parametros novos na função objetivo e temos que passar o fold na função objetivo, ela tem que ser uma \"variavel global\" a função. Então, se quisermos fazer dessa forma, a função objetivo sempre será sub-função da função/método que calcula todos os resultados. Isso não fica muito legivel e é pouco flexível. Pois, cada método de aprendizado de máquina possui sua própria variação de parametros. Criar várias funções objetivos dentro de uma função de calculo de resultado não ficaria tão legivel e você não poderia usar essas funções externamente. \n",
    "\n",
    "Para melhorarmos isso, podemos criar uma classe que é \"invocável\" ou seja, um classe em que os objetos podem ser chamados (veja [slides](https://daniel-hasan.github.io/cefet-web-grad/classes/python2/#27) e [video-aula](https://www.youtube.com/watch?v=EXmr7zttGWE&list=PLwIaU1DGYV6skjkahOKtpgs9bPXlrVrIp&index=10)). Assim, o fold seria um atributo dessa classe e o código ficaria mais limpo, da seguinte forma: "
   ]
  },
  {
   "cell_type": "code",
   "execution_count": 10,
   "metadata": {},
   "outputs": [
    {
     "name": "stderr",
     "output_type": "stream",
     "text": [
      "[I 2020-07-27 21:39:27,701] Finished trial#0 with value: 0.5 with parameters: {'x': -1.6595599059485195}. Best is trial#0 with value: 0.5.\n",
      "[I 2020-07-27 21:39:27,750] Finished trial#1 with value: 0.5 with parameters: {'x': 4.4064898688431615}. Best is trial#0 with value: 0.5.\n",
      "[I 2020-07-27 21:39:27,795] Finished trial#2 with value: 0.5 with parameters: {'x': -9.997712503653101}. Best is trial#0 with value: 0.5.\n",
      "[I 2020-07-27 21:39:27,841] Finished trial#3 with value: 0.5 with parameters: {'x': -3.9533485473632046}. Best is trial#0 with value: 0.5.\n",
      "[I 2020-07-27 21:39:27,890] Finished trial#4 with value: 0.5 with parameters: {'x': -7.064882183657739}. Best is trial#0 with value: 0.5.\n",
      "[I 2020-07-27 21:39:27,936] Finished trial#5 with value: 0.5 with parameters: {'x': -8.153228104624045}. Best is trial#0 with value: 0.5.\n",
      "[I 2020-07-27 21:39:27,984] Finished trial#6 with value: 0.5 with parameters: {'x': -6.274795772446582}. Best is trial#0 with value: 0.5.\n",
      "[I 2020-07-27 21:39:28,028] Finished trial#7 with value: 0.5 with parameters: {'x': -3.0887854591390447}. Best is trial#0 with value: 0.5.\n",
      "[I 2020-07-27 21:39:28,075] Finished trial#8 with value: 0.5 with parameters: {'x': -2.0646505153866013}. Best is trial#0 with value: 0.5.\n",
      "[I 2020-07-27 21:39:28,123] Finished trial#9 with value: 0.5 with parameters: {'x': 0.7763346800671389}. Best is trial#0 with value: 0.5.\n",
      "[I 2020-07-27 21:39:28,172] Finished trial#10 with value: 0.5 with parameters: {'x': 9.758419672936258}. Best is trial#0 with value: 0.5.\n",
      "[I 2020-07-27 21:39:28,222] Finished trial#11 with value: 0.5 with parameters: {'x': 3.801079341293411}. Best is trial#0 with value: 0.5.\n",
      "[I 2020-07-27 21:39:28,274] Finished trial#12 with value: 0.5 with parameters: {'x': 5.438919459128679}. Best is trial#0 with value: 0.5.\n",
      "[I 2020-07-27 21:39:28,323] Finished trial#13 with value: 0.5 with parameters: {'x': 2.5544711625313443}. Best is trial#0 with value: 0.5.\n",
      "[I 2020-07-27 21:39:28,370] Finished trial#14 with value: 0.5 with parameters: {'x': 9.66385588886616}. Best is trial#0 with value: 0.5.\n",
      "[I 2020-07-27 21:39:28,419] Finished trial#15 with value: 0.5 with parameters: {'x': 6.9533719340705336}. Best is trial#0 with value: 0.5.\n",
      "[I 2020-07-27 21:39:28,473] Finished trial#16 with value: 0.5 with parameters: {'x': -0.9140030079463146}. Best is trial#0 with value: 0.5.\n",
      "[I 2020-07-27 21:39:28,522] Finished trial#17 with value: 0.5 with parameters: {'x': 8.69128196407393}. Best is trial#0 with value: 0.5.\n",
      "[I 2020-07-27 21:39:28,574] Finished trial#18 with value: 0.5 with parameters: {'x': 7.077208419496685}. Best is trial#0 with value: 0.5.\n",
      "[I 2020-07-27 21:39:28,627] Finished trial#19 with value: 0.5 with parameters: {'x': -1.0500745652694579}. Best is trial#0 with value: 0.5.\n",
      "[I 2020-07-27 21:39:28,681] Finished trial#20 with value: 0.5 with parameters: {'x': 1.1653078698484731}. Best is trial#0 with value: 0.5.\n",
      "[I 2020-07-27 21:39:28,735] Finished trial#21 with value: 0.5 with parameters: {'x': 7.542315073429344}. Best is trial#0 with value: 0.5.\n",
      "[I 2020-07-27 21:39:28,783] Finished trial#22 with value: 0.5 with parameters: {'x': -4.712527744020569}. Best is trial#0 with value: 0.5.\n",
      "[I 2020-07-27 21:39:28,834] Finished trial#23 with value: 0.5 with parameters: {'x': 0.8833182441747445}. Best is trial#0 with value: 0.5.\n",
      "[I 2020-07-27 21:39:28,886] Finished trial#24 with value: 0.5 with parameters: {'x': 2.0213637868706646}. Best is trial#0 with value: 0.5.\n",
      "[I 2020-07-27 21:39:28,933] Finished trial#25 with value: 0.5 with parameters: {'x': -4.366380304133717}. Best is trial#0 with value: 0.5.\n",
      "[I 2020-07-27 21:39:28,984] Finished trial#26 with value: 0.5 with parameters: {'x': -5.167777685395999}. Best is trial#0 with value: 0.5.\n",
      "[I 2020-07-27 21:39:29,036] Finished trial#27 with value: 0.5 with parameters: {'x': 2.1392390739196254}. Best is trial#0 with value: 0.5.\n",
      "[I 2020-07-27 21:39:29,090] Finished trial#28 with value: 0.5 with parameters: {'x': -2.5714174053669514}. Best is trial#0 with value: 0.5.\n",
      "[I 2020-07-27 21:39:29,145] Finished trial#29 with value: 0.5 with parameters: {'x': -5.557131699603913}. Best is trial#0 with value: 0.5.\n"
     ]
    },
    {
     "name": "stdout",
     "output_type": "stream",
     "text": [
      "Melhor execução: {'x': -1.6595599059485195}\n"
     ]
    }
   ],
   "source": [
    "class ObjetivoApDeMaquina:\n",
    "    def __init__(self,fold):\n",
    "        self.fold = fold\n",
    "    def __call__(self, trial: optuna.Trial):\n",
    "                #suponha que temos o parametro x para ajustar\n",
    "        x = trial.suggest_uniform('x', -10, 10)\n",
    "        \n",
    "        #navega em cada um dos folds de validação \n",
    "        soma = 0\n",
    "        for fold_validacao in fold.arr_folds_validacao:\n",
    "            #1. roda um metodo de aprendizado de maquina para o fold_validacao \n",
    "            #usando o parametro x\n",
    "            \n",
    "            #2. armazena resultado em resultado fold\n",
    "            resultado_fold = 0.5#colcoamos um resultado fixo para funcionar\n",
    "            \n",
    "            #3. faz o somatorio para a media\n",
    "            soma += resultado_fold\n",
    "        #4. a funcao objetivo é retornada como a media dos folds de validação\n",
    "        return soma/len(fold.arr_folds_validacao)\n",
    "def executa_fold(fold):\n",
    "\n",
    "    otimiza_fold = ObjetivoApDeMaquina(fold)\n",
    "    \n",
    "    tpe_sampler = TPESampler(n_startup_trials = 10,seed=1)\n",
    "    study_TP = optuna.create_study(sampler=tpe_sampler, direction=\"maximize\")\n",
    "    #colocamos 30 tentativas (destas, 10 serão aleatorias e, o restante, considerando o algoritmo)\n",
    "    study_TP.optimize(otimiza_fold, n_trials=30)\n",
    "    \n",
    "    print(f\"Melhor execução: {study_TP.best_trial.params}\")\n",
    "    #aplica o melhor parametro no teste\n",
    "    #...\n",
    "fold = Fold(Dados.df_treino,Dados.df_teste,\"realClass\",num_folds_validacao=5,num_repeticoes_validacao=2)\n",
    "executa_fold(fold)\n"
   ]
  },
  {
   "cell_type": "markdown",
   "metadata": {},
   "source": [
    "Para ficar mais flexivel ainda, como podemos possuir várias classes - uma para cada método -, podemos passar **classe como parametro**:"
   ]
  },
  {
   "cell_type": "code",
   "execution_count": 11,
   "metadata": {},
   "outputs": [
    {
     "name": "stderr",
     "output_type": "stream",
     "text": [
      "[I 2020-07-27 21:39:29,216] Finished trial#0 with value: 0.5 with parameters: {'x': -1.6595599059485195}. Best is trial#0 with value: 0.5.\n",
      "[I 2020-07-27 21:39:29,269] Finished trial#1 with value: 0.5 with parameters: {'x': 4.4064898688431615}. Best is trial#0 with value: 0.5.\n",
      "[I 2020-07-27 21:39:29,317] Finished trial#2 with value: 0.5 with parameters: {'x': -9.997712503653101}. Best is trial#0 with value: 0.5.\n",
      "[I 2020-07-27 21:39:29,364] Finished trial#3 with value: 0.5 with parameters: {'x': -3.9533485473632046}. Best is trial#0 with value: 0.5.\n",
      "[I 2020-07-27 21:39:29,410] Finished trial#4 with value: 0.5 with parameters: {'x': -7.064882183657739}. Best is trial#0 with value: 0.5.\n",
      "[I 2020-07-27 21:39:29,459] Finished trial#5 with value: 0.5 with parameters: {'x': -8.153228104624045}. Best is trial#0 with value: 0.5.\n",
      "[I 2020-07-27 21:39:29,507] Finished trial#6 with value: 0.5 with parameters: {'x': -6.274795772446582}. Best is trial#0 with value: 0.5.\n",
      "[I 2020-07-27 21:39:29,553] Finished trial#7 with value: 0.5 with parameters: {'x': -3.0887854591390447}. Best is trial#0 with value: 0.5.\n",
      "[I 2020-07-27 21:39:29,597] Finished trial#8 with value: 0.5 with parameters: {'x': -2.0646505153866013}. Best is trial#0 with value: 0.5.\n",
      "[I 2020-07-27 21:39:29,640] Finished trial#9 with value: 0.5 with parameters: {'x': 0.7763346800671389}. Best is trial#0 with value: 0.5.\n",
      "[I 2020-07-27 21:39:29,691] Finished trial#10 with value: 0.5 with parameters: {'x': 9.758419672936258}. Best is trial#0 with value: 0.5.\n",
      "[I 2020-07-27 21:39:29,738] Finished trial#11 with value: 0.5 with parameters: {'x': 3.801079341293411}. Best is trial#0 with value: 0.5.\n",
      "[I 2020-07-27 21:39:29,795] Finished trial#12 with value: 0.5 with parameters: {'x': 5.438919459128679}. Best is trial#0 with value: 0.5.\n",
      "[I 2020-07-27 21:39:29,848] Finished trial#13 with value: 0.5 with parameters: {'x': 2.5544711625313443}. Best is trial#0 with value: 0.5.\n",
      "[I 2020-07-27 21:39:29,900] Finished trial#14 with value: 0.5 with parameters: {'x': 9.66385588886616}. Best is trial#0 with value: 0.5.\n",
      "[I 2020-07-27 21:39:29,951] Finished trial#15 with value: 0.5 with parameters: {'x': 6.9533719340705336}. Best is trial#0 with value: 0.5.\n",
      "[I 2020-07-27 21:39:30,004] Finished trial#16 with value: 0.5 with parameters: {'x': -0.9140030079463146}. Best is trial#0 with value: 0.5.\n",
      "[I 2020-07-27 21:39:30,057] Finished trial#17 with value: 0.5 with parameters: {'x': 8.69128196407393}. Best is trial#0 with value: 0.5.\n",
      "[I 2020-07-27 21:39:30,104] Finished trial#18 with value: 0.5 with parameters: {'x': 7.077208419496685}. Best is trial#0 with value: 0.5.\n",
      "[I 2020-07-27 21:39:30,149] Finished trial#19 with value: 0.5 with parameters: {'x': -1.0500745652694579}. Best is trial#0 with value: 0.5.\n",
      "[I 2020-07-27 21:39:30,197] Finished trial#20 with value: 0.5 with parameters: {'x': 1.1653078698484731}. Best is trial#0 with value: 0.5.\n",
      "[I 2020-07-27 21:39:30,244] Finished trial#21 with value: 0.5 with parameters: {'x': 7.542315073429344}. Best is trial#0 with value: 0.5.\n",
      "[I 2020-07-27 21:39:30,290] Finished trial#22 with value: 0.5 with parameters: {'x': -4.712527744020569}. Best is trial#0 with value: 0.5.\n",
      "[I 2020-07-27 21:39:30,340] Finished trial#23 with value: 0.5 with parameters: {'x': 0.8833182441747445}. Best is trial#0 with value: 0.5.\n",
      "[I 2020-07-27 21:39:30,389] Finished trial#24 with value: 0.5 with parameters: {'x': 2.0213637868706646}. Best is trial#0 with value: 0.5.\n",
      "[I 2020-07-27 21:39:30,437] Finished trial#25 with value: 0.5 with parameters: {'x': -4.366380304133717}. Best is trial#0 with value: 0.5.\n",
      "[I 2020-07-27 21:39:30,485] Finished trial#26 with value: 0.5 with parameters: {'x': -5.167777685395999}. Best is trial#0 with value: 0.5.\n",
      "[I 2020-07-27 21:39:30,536] Finished trial#27 with value: 0.5 with parameters: {'x': 2.1392390739196254}. Best is trial#0 with value: 0.5.\n",
      "[I 2020-07-27 21:39:30,590] Finished trial#28 with value: 0.5 with parameters: {'x': -2.5714174053669514}. Best is trial#0 with value: 0.5.\n",
      "[I 2020-07-27 21:39:30,642] Finished trial#29 with value: 0.5 with parameters: {'x': -5.557131699603913}. Best is trial#0 with value: 0.5.\n"
     ]
    },
    {
     "name": "stdout",
     "output_type": "stream",
     "text": [
      "Melhor execução: {'x': -1.6595599059485195}\n"
     ]
    }
   ],
   "source": [
    "class ObjetivoApDeMaquina:\n",
    "    def __init__(self,fold):\n",
    "        self.fold = fold\n",
    "    def __call__(self, trial: optuna.Trial):\n",
    "                #suponha que temos o parametro x para ajustar\n",
    "        x = trial.suggest_uniform('x', -10, 10)\n",
    "        \n",
    "        #navega em cada um dos folds de validação \n",
    "        soma = 0\n",
    "        for fold_validacao in fold.arr_folds_validacao:\n",
    "            #1. roda um metodo de aprendizado de maquina para o fold_validacao \n",
    "            #usando o parametro x\n",
    "            \n",
    "            #2. armazena resultado em resultado fold\n",
    "            resultado_fold = 0.5#colcoamos um resultado fixo para funcionar\n",
    "            \n",
    "            #3. faz o somatorio para a media\n",
    "            soma += resultado_fold\n",
    "        #4. a funcao objetivo é retornada como a media dos folds de validação\n",
    "        return soma/len(fold.arr_folds_validacao)\n",
    "def executa_fold(fold, ClasseObjetivo):\n",
    "\n",
    "    otimiza_fold = ClasseObjetivo(fold)\n",
    "    \n",
    "    tpe_sampler = TPESampler(n_startup_trials = 10,seed=1)\n",
    "    study_TP = optuna.create_study(sampler=tpe_sampler, direction=\"maximize\")\n",
    "    #colocamos 30 tentativas (destas, 10 serão aleatorias e, o restante, considerando o algoritmo)\n",
    "    study_TP.optimize(otimiza_fold, n_trials=30)\n",
    "    \n",
    "    print(f\"Melhor execução: {study_TP.best_trial.params}\")\n",
    "    #aplica o melhor parametro no teste\n",
    "    #...\n",
    "fold = Fold(Dados.df_treino,Dados.df_teste,\"realClass\",num_folds_validacao=5,num_repeticoes_validacao=2)\n",
    "executa_fold(fold, ObjetivoApDeMaquina)\n"
   ]
  },
  {
   "cell_type": "markdown",
   "metadata": {},
   "source": [
    "O código que vocês irão implementar será muito similar a esses. O arquivo `avaliacao.py` já possui o esqueleto do código para vocês continuarem. A classe `Experimento` é responsável por fazer toda a experimentação, por meio de uma lista de folds e um método de aprendizado de maquina (que são parametros do construtor): (1) para cada fold, descobre-se os melhores parametros usando o(s) fold(s) de validação; (2) com o melhor parametro, é criado o modelo e aplicado o teste. Essa classe é similar também a função `executa_fold` porém um pouco maior - aplicando-se a diversos folds e a um método de aprendizado de máquina em específico. \n",
    "\n",
    "Além disso, temos que implementar as classes de otimização de parametro. A classe `OtimizacaoObjetivo` é a superclasse que possui o esqueleto do que deve ser feito para a otimização de um parametro - similar ao funcionamento da classe `ObjetivoApDeMaquina` acima, porém, temos também um vetor `arr_evaluated_methods` que armazena o método foi executado em cada tentativa - com os seus parametros já definidos. \n",
    "\n",
    "Como pode-se observar, essa classe possui métodos abstratos (ou seja, que devem ser implementados pela suas subclasses). São eles: `obtem_metodo` e o `resultado-metrica_otimizacao`. Pois, cada subclasse será referente a um método (com seus parametros) e, dependendo do método, pode-se ser retornado um valor diferente em `resultado_metrica_otimizacao` (macro F1, por exemplo) dependendo, inclusive, do contexto do problema. Veja como a classe `OtimizacaoObjetivoArvoreDecisao`, uma das subclasses, está implementada. "
   ]
  },
  {
   "cell_type": "markdown",
   "metadata": {},
   "source": [
    "Assim, faça as seguintes atividades: "
   ]
  },
  {
   "cell_type": "markdown",
   "metadata": {},
   "source": [
    "**Atividade 4 classe OtimizacaoObjetivoRandomForest**: No método `obtem_metodo` crie um modelo para a [RandomForest do scikitlearn](http://scikit-learn.org/stable/modules/generated/sklearn.ensemble.RandomForestClassifier.html) que você deverá variar os seguintes parametros: \n",
    "    - min_samples_split: de 0 a 0.5\n",
    "    - max_features: de 0  a 0.5\n",
    "    - num_arvores: inteiro de 1 a `self.num_arvores_max` (use o suggest_int)\n",
    "O método `resultado_metrica_otimizacao` deve retornar a macro F1 do resultado passado como parametro. "
   ]
  },
  {
   "cell_type": "code",
   "execution_count": 1,
   "metadata": {},
   "outputs": [
    {
     "name": "stdout",
     "output_type": "stream",
     "text": [
      "1\n",
      "/home/marcus/Aprendizado-de-Maquina-da-teoria-a-Pratica/praticas-minicurso-ml-master/p3-avaliacao/resultado.py:72: UndefinedMetricWarning: Não há elementos previstos para a classe 1 precisão foi definida como zero.\n",
      "  warnings.warn(\"Não há elementos previstos para a classe \"+str(classe)+\" precisão foi definida como zero.\", UndefinedMetricWarning)\n",
      "/home/marcus/Aprendizado-de-Maquina-da-teoria-a-Pratica/praticas-minicurso-ml-master/p3-avaliacao/resultado.py:72: UndefinedMetricWarning: Não há elementos previstos para a classe 1 precisão foi definida como zero.\n",
      "  warnings.warn(\"Não há elementos previstos para a classe \"+str(classe)+\" precisão foi definida como zero.\", UndefinedMetricWarning)\n",
      "/home/marcus/Aprendizado-de-Maquina-da-teoria-a-Pratica/praticas-minicurso-ml-master/p3-avaliacao/resultado.py:72: UndefinedMetricWarning: Não há elementos previstos para a classe 1 precisão foi definida como zero.\n",
      "  warnings.warn(\"Não há elementos previstos para a classe \"+str(classe)+\" precisão foi definida como zero.\", UndefinedMetricWarning)\n",
      "/home/marcus/Aprendizado-de-Maquina-da-teoria-a-Pratica/praticas-minicurso-ml-master/p3-avaliacao/resultado.py:72: UndefinedMetricWarning: Não há elementos previstos para a classe 1 precisão foi definida como zero.\n",
      "  warnings.warn(\"Não há elementos previstos para a classe \"+str(classe)+\" precisão foi definida como zero.\", UndefinedMetricWarning)\n",
      "\u001b[32m[I 2020-07-27 21:50:39,026]\u001b[0m Finished trial#0 with value: 0.4055555555555556 with parameters: {'min_samples_split': 0.208511002351287, 'max_features': 0.36016224672107905, 'num_arvores': 2}. Best is trial#0 with value: 0.4055555555555556.\u001b[0m\n",
      "2\n",
      "/home/marcus/Aprendizado-de-Maquina-da-teoria-a-Pratica/praticas-minicurso-ml-master/p3-avaliacao/resultado.py:72: UndefinedMetricWarning: Não há elementos previstos para a classe 0 precisão foi definida como zero.\n",
      "  warnings.warn(\"Não há elementos previstos para a classe \"+str(classe)+\" precisão foi definida como zero.\", UndefinedMetricWarning)\n",
      "/home/marcus/Aprendizado-de-Maquina-da-teoria-a-Pratica/praticas-minicurso-ml-master/p3-avaliacao/resultado.py:72: UndefinedMetricWarning: Não há elementos previstos para a classe 0 precisão foi definida como zero.\n",
      "  warnings.warn(\"Não há elementos previstos para a classe \"+str(classe)+\" precisão foi definida como zero.\", UndefinedMetricWarning)\n",
      "\u001b[32m[I 2020-07-27 21:50:39,087]\u001b[0m Finished trial#1 with value: 0.3194444444444444 with parameters: {'min_samples_split': 0.15116628631591988, 'max_features': 0.07337794540855652, 'num_arvores': 1}. Best is trial#0 with value: 0.4055555555555556.\u001b[0m\n",
      "3\n",
      "/home/marcus/Aprendizado-de-Maquina-da-teoria-a-Pratica/praticas-minicurso-ml-master/p3-avaliacao/resultado.py:72: UndefinedMetricWarning: Não há elementos previstos para a classe 0 precisão foi definida como zero.\n",
      "  warnings.warn(\"Não há elementos previstos para a classe \"+str(classe)+\" precisão foi definida como zero.\", UndefinedMetricWarning)\n",
      "\u001b[32m[I 2020-07-27 21:50:39,169]\u001b[0m Finished trial#2 with value: 0.48055555555555557 with parameters: {'min_samples_split': 0.19829036364801306, 'max_features': 0.1939553705810037, 'num_arvores': 5}. Best is trial#2 with value: 0.48055555555555557.\u001b[0m\n",
      "4\n",
      "/home/marcus/Aprendizado-de-Maquina-da-teoria-a-Pratica/praticas-minicurso-ml-master/p3-avaliacao/resultado.py:72: UndefinedMetricWarning: Não há elementos previstos para a classe 0 precisão foi definida como zero.\n",
      "  warnings.warn(\"Não há elementos previstos para a classe \"+str(classe)+\" precisão foi definida como zero.\", UndefinedMetricWarning)\n",
      "\u001b[32m[I 2020-07-27 21:50:39,234]\u001b[0m Finished trial#3 with value: 0.48055555555555557 with parameters: {'min_samples_split': 0.19838373711533497, 'max_features': 0.2694083670016785, 'num_arvores': 3}. Best is trial#2 with value: 0.48055555555555557.\u001b[0m\n",
      "5\n",
      "/home/marcus/Aprendizado-de-Maquina-da-teoria-a-Pratica/praticas-minicurso-ml-master/p3-avaliacao/resultado.py:72: UndefinedMetricWarning: Não há elementos previstos para a classe 0 precisão foi definida como zero.\n",
      "  warnings.warn(\"Não há elementos previstos para a classe \"+str(classe)+\" precisão foi definida como zero.\", UndefinedMetricWarning)\n",
      "\u001b[32m[I 2020-07-27 21:50:39,316]\u001b[0m Finished trial#4 with value: 0.48055555555555557 with parameters: {'min_samples_split': 0.2622740797864357, 'max_features': 0.22172644688977833, 'num_arvores': 5}. Best is trial#2 with value: 0.48055555555555557.\u001b[0m\n",
      "6\n",
      "/home/marcus/Aprendizado-de-Maquina-da-teoria-a-Pratica/praticas-minicurso-ml-master/p3-avaliacao/resultado.py:72: UndefinedMetricWarning: Não há elementos previstos para a classe 1 precisão foi definida como zero.\n",
      "  warnings.warn(\"Não há elementos previstos para a classe \"+str(classe)+\" precisão foi definida como zero.\", UndefinedMetricWarning)\n",
      "/home/marcus/Aprendizado-de-Maquina-da-teoria-a-Pratica/praticas-minicurso-ml-master/p3-avaliacao/resultado.py:72: UndefinedMetricWarning: Não há elementos previstos para a classe 1 precisão foi definida como zero.\n",
      "  warnings.warn(\"Não há elementos previstos para a classe \"+str(classe)+\" precisão foi definida como zero.\", UndefinedMetricWarning)\n",
      "/home/marcus/Aprendizado-de-Maquina-da-teoria-a-Pratica/praticas-minicurso-ml-master/p3-avaliacao/resultado.py:72: UndefinedMetricWarning: Não há elementos previstos para a classe 1 precisão foi definida como zero.\n",
      "  warnings.warn(\"Não há elementos previstos para a classe \"+str(classe)+\" precisão foi definida como zero.\", UndefinedMetricWarning)\n",
      "/home/marcus/Aprendizado-de-Maquina-da-teoria-a-Pratica/praticas-minicurso-ml-master/p3-avaliacao/resultado.py:72: UndefinedMetricWarning: Não há elementos previstos para a classe 1 precisão foi definida como zero.\n",
      "  warnings.warn(\"Não há elementos previstos para a classe \"+str(classe)+\" precisão foi definida como zero.\", UndefinedMetricWarning)\n",
      "\u001b[32m[I 2020-07-27 21:50:39,380]\u001b[0m Finished trial#5 with value: 0.4055555555555556 with parameters: {'min_samples_split': 0.013693796598963082, 'max_features': 0.3352337550892011, 'num_arvores': 2}. Best is trial#2 with value: 0.48055555555555557.\u001b[0m\n",
      "7\n",
      "/home/marcus/Aprendizado-de-Maquina-da-teoria-a-Pratica/praticas-minicurso-ml-master/p3-avaliacao/resultado.py:72: UndefinedMetricWarning: Não há elementos previstos para a classe 1 precisão foi definida como zero.\n",
      "  warnings.warn(\"Não há elementos previstos para a classe \"+str(classe)+\" precisão foi definida como zero.\", UndefinedMetricWarning)\n",
      "/home/marcus/Aprendizado-de-Maquina-da-teoria-a-Pratica/praticas-minicurso-ml-master/p3-avaliacao/resultado.py:72: UndefinedMetricWarning: Não há elementos previstos para a classe 1 precisão foi definida como zero.\n",
      "  warnings.warn(\"Não há elementos previstos para a classe \"+str(classe)+\" precisão foi definida como zero.\", UndefinedMetricWarning)\n",
      "/home/marcus/Aprendizado-de-Maquina-da-teoria-a-Pratica/praticas-minicurso-ml-master/p3-avaliacao/resultado.py:72: UndefinedMetricWarning: Não há elementos previstos para a classe 1 precisão foi definida como zero.\n",
      "  warnings.warn(\"Não há elementos previstos para a classe \"+str(classe)+\" precisão foi definida como zero.\", UndefinedMetricWarning)\n",
      "/home/marcus/Aprendizado-de-Maquina-da-teoria-a-Pratica/praticas-minicurso-ml-master/p3-avaliacao/resultado.py:72: UndefinedMetricWarning: Não há elementos previstos para a classe 1 precisão foi definida como zero.\n",
      "  warnings.warn(\"Não há elementos previstos para a classe \"+str(classe)+\" precisão foi definida como zero.\", UndefinedMetricWarning)\n",
      "\u001b[32m[I 2020-07-27 21:50:39,446]\u001b[0m Finished trial#6 with value: 0.4055555555555556 with parameters: {'min_samples_split': 0.21534928359235422, 'max_features': 0.46956389471181287, 'num_arvores': 2}. Best is trial#2 with value: 0.48055555555555557.\u001b[0m\n",
      "8\n",
      "/home/marcus/Aprendizado-de-Maquina-da-teoria-a-Pratica/praticas-minicurso-ml-master/p3-avaliacao/resultado.py:72: UndefinedMetricWarning: Não há elementos previstos para a classe 1 precisão foi definida como zero.\n",
      "  warnings.warn(\"Não há elementos previstos para a classe \"+str(classe)+\" precisão foi definida como zero.\", UndefinedMetricWarning)\n",
      "/home/marcus/Aprendizado-de-Maquina-da-teoria-a-Pratica/praticas-minicurso-ml-master/p3-avaliacao/resultado.py:72: UndefinedMetricWarning: Não há elementos previstos para a classe 0 precisão foi definida como zero.\n",
      "  warnings.warn(\"Não há elementos previstos para a classe \"+str(classe)+\" precisão foi definida como zero.\", UndefinedMetricWarning)\n",
      "/home/marcus/Aprendizado-de-Maquina-da-teoria-a-Pratica/praticas-minicurso-ml-master/p3-avaliacao/resultado.py:72: UndefinedMetricWarning: Não há elementos previstos para a classe 1 precisão foi definida como zero.\n",
      "  warnings.warn(\"Não há elementos previstos para a classe \"+str(classe)+\" precisão foi definida como zero.\", UndefinedMetricWarning)\n",
      "\u001b[32m[I 2020-07-27 21:50:39,518]\u001b[0m Finished trial#7 with value: 0.4305555555555556 with parameters: {'min_samples_split': 0.48413078785969876, 'max_features': 0.15671208907962142, 'num_arvores': 2}. Best is trial#2 with value: 0.48055555555555557.\u001b[0m\n",
      "9\n"
     ]
    },
    {
     "name": "stdout",
     "output_type": "stream",
     "text": [
      "/home/marcus/Aprendizado-de-Maquina-da-teoria-a-Pratica/praticas-minicurso-ml-master/p3-avaliacao/resultado.py:72: UndefinedMetricWarning: Não há elementos previstos para a classe 1 precisão foi definida como zero.\n",
      "  warnings.warn(\"Não há elementos previstos para a classe \"+str(classe)+\" precisão foi definida como zero.\", UndefinedMetricWarning)\n",
      "/home/marcus/Aprendizado-de-Maquina-da-teoria-a-Pratica/praticas-minicurso-ml-master/p3-avaliacao/resultado.py:72: UndefinedMetricWarning: Não há elementos previstos para a classe 1 precisão foi definida como zero.\n",
      "  warnings.warn(\"Não há elementos previstos para a classe \"+str(classe)+\" precisão foi definida como zero.\", UndefinedMetricWarning)\n",
      "/home/marcus/Aprendizado-de-Maquina-da-teoria-a-Pratica/praticas-minicurso-ml-master/p3-avaliacao/resultado.py:72: UndefinedMetricWarning: Não há elementos previstos para a classe 0 precisão foi definida como zero.\n",
      "  warnings.warn(\"Não há elementos previstos para a classe \"+str(classe)+\" precisão foi definida como zero.\", UndefinedMetricWarning)\n",
      "/home/marcus/Aprendizado-de-Maquina-da-teoria-a-Pratica/praticas-minicurso-ml-master/p3-avaliacao/resultado.py:72: UndefinedMetricWarning: Não há elementos previstos para a classe 0 precisão foi definida como zero.\n",
      "  warnings.warn(\"Não há elementos previstos para a classe \"+str(classe)+\" precisão foi definida como zero.\", UndefinedMetricWarning)\n",
      "/home/marcus/Aprendizado-de-Maquina-da-teoria-a-Pratica/praticas-minicurso-ml-master/p3-avaliacao/resultado.py:72: UndefinedMetricWarning: Não há elementos previstos para a classe 0 precisão foi definida como zero.\n",
      "  warnings.warn(\"Não há elementos previstos para a classe \"+str(classe)+\" precisão foi definida como zero.\", UndefinedMetricWarning)\n",
      "/home/marcus/Aprendizado-de-Maquina-da-teoria-a-Pratica/praticas-minicurso-ml-master/p3-avaliacao/resultado.py:72: UndefinedMetricWarning: Não há elementos previstos para a classe 1 precisão foi definida como zero.\n",
      "  warnings.warn(\"Não há elementos previstos para a classe \"+str(classe)+\" precisão foi definida como zero.\", UndefinedMetricWarning)\n",
      "\u001b[32m[I 2020-07-27 21:50:39,585]\u001b[0m Finished trial#8 with value: 0.3686507936507937 with parameters: {'min_samples_split': 0.43819457614801915, 'max_features': 0.44730333175192366, 'num_arvores': 1}. Best is trial#2 with value: 0.48055555555555557.\u001b[0m\n",
      "10\n",
      "/home/marcus/Aprendizado-de-Maquina-da-teoria-a-Pratica/praticas-minicurso-ml-master/p3-avaliacao/resultado.py:72: UndefinedMetricWarning: Não há elementos previstos para a classe 0 precisão foi definida como zero.\n",
      "  warnings.warn(\"Não há elementos previstos para a classe \"+str(classe)+\" precisão foi definida como zero.\", UndefinedMetricWarning)\n",
      "/home/marcus/Aprendizado-de-Maquina-da-teoria-a-Pratica/praticas-minicurso-ml-master/p3-avaliacao/resultado.py:72: UndefinedMetricWarning: Não há elementos previstos para a classe 1 precisão foi definida como zero.\n",
      "  warnings.warn(\"Não há elementos previstos para a classe \"+str(classe)+\" precisão foi definida como zero.\", UndefinedMetricWarning)\n",
      "\u001b[32m[I 2020-07-27 21:50:39,667]\u001b[0m Finished trial#9 with value: 0.43253968253968256 with parameters: {'min_samples_split': 0.4148016796970918, 'max_features': 0.13652498710837369, 'num_arvores': 3}. Best is trial#2 with value: 0.48055555555555557.\u001b[0m\n",
      "11\n",
      "/home/marcus/Aprendizado-de-Maquina-da-teoria-a-Pratica/praticas-minicurso-ml-master/p3-avaliacao/resultado.py:72: UndefinedMetricWarning: Não há elementos previstos para a classe 0 precisão foi definida como zero.\n",
      "  warnings.warn(\"Não há elementos previstos para a classe \"+str(classe)+\" precisão foi definida como zero.\", UndefinedMetricWarning)\n",
      "\u001b[32m[I 2020-07-27 21:50:39,763]\u001b[0m Finished trial#10 with value: 0.48055555555555557 with parameters: {'min_samples_split': 0.05219583088403967, 'max_features': 0.06479321027429591, 'num_arvores': 5}. Best is trial#2 with value: 0.48055555555555557.\u001b[0m\n",
      "12\n",
      "/home/marcus/Aprendizado-de-Maquina-da-teoria-a-Pratica/praticas-minicurso-ml-master/p3-avaliacao/resultado.py:72: UndefinedMetricWarning: Não há elementos previstos para a classe 0 precisão foi definida como zero.\n",
      "  warnings.warn(\"Não há elementos previstos para a classe \"+str(classe)+\" precisão foi definida como zero.\", UndefinedMetricWarning)\n",
      "/home/marcus/Aprendizado-de-Maquina-da-teoria-a-Pratica/praticas-minicurso-ml-master/p3-avaliacao/resultado.py:72: UndefinedMetricWarning: Não há elementos previstos para a classe 1 precisão foi definida como zero.\n",
      "  warnings.warn(\"Não há elementos previstos para a classe \"+str(classe)+\" precisão foi definida como zero.\", UndefinedMetricWarning)\n",
      "\u001b[32m[I 2020-07-27 21:50:39,843]\u001b[0m Finished trial#11 with value: 0.30277777777777776 with parameters: {'min_samples_split': 0.31815163380970113, 'max_features': 0.284041978716814, 'num_arvores': 4}. Best is trial#2 with value: 0.48055555555555557.\u001b[0m\n",
      "13\n",
      "/home/marcus/Aprendizado-de-Maquina-da-teoria-a-Pratica/praticas-minicurso-ml-master/p3-avaliacao/resultado.py:72: UndefinedMetricWarning: Não há elementos previstos para a classe 0 precisão foi definida como zero.\n",
      "  warnings.warn(\"Não há elementos previstos para a classe \"+str(classe)+\" precisão foi definida como zero.\", UndefinedMetricWarning)\n",
      "/home/marcus/Aprendizado-de-Maquina-da-teoria-a-Pratica/praticas-minicurso-ml-master/p3-avaliacao/resultado.py:72: UndefinedMetricWarning: Não há elementos previstos para a classe 1 precisão foi definida como zero.\n",
      "  warnings.warn(\"Não há elementos previstos para a classe \"+str(classe)+\" precisão foi definida como zero.\", UndefinedMetricWarning)\n",
      "/home/marcus/Aprendizado-de-Maquina-da-teoria-a-Pratica/praticas-minicurso-ml-master/p3-avaliacao/resultado.py:72: UndefinedMetricWarning: Não há elementos previstos para a classe 1 precisão foi definida como zero.\n",
      "  warnings.warn(\"Não há elementos previstos para a classe \"+str(classe)+\" precisão foi definida como zero.\", UndefinedMetricWarning)\n",
      "\u001b[32m[I 2020-07-27 21:50:39,921]\u001b[0m Finished trial#12 with value: 0.3277777777777778 with parameters: {'min_samples_split': 0.11291709172923867, 'max_features': 0.23681982158558643, 'num_arvores': 4}. Best is trial#2 with value: 0.48055555555555557.\u001b[0m\n",
      "14\n",
      "/home/marcus/Aprendizado-de-Maquina-da-teoria-a-Pratica/praticas-minicurso-ml-master/p3-avaliacao/resultado.py:72: UndefinedMetricWarning: Não há elementos previstos para a classe 0 precisão foi definida como zero.\n",
      "  warnings.warn(\"Não há elementos previstos para a classe \"+str(classe)+\" precisão foi definida como zero.\", UndefinedMetricWarning)\n",
      "/home/marcus/Aprendizado-de-Maquina-da-teoria-a-Pratica/praticas-minicurso-ml-master/p3-avaliacao/resultado.py:72: UndefinedMetricWarning: Não há elementos previstos para a classe 1 precisão foi definida como zero.\n",
      "  warnings.warn(\"Não há elementos previstos para a classe \"+str(classe)+\" precisão foi definida como zero.\", UndefinedMetricWarning)\n",
      "\u001b[32m[I 2020-07-27 21:50:40,003]\u001b[0m Finished trial#13 with value: 0.30277777777777776 with parameters: {'min_samples_split': 0.2949968946035284, 'max_features': 0.17362826761019132, 'num_arvores': 4}. Best is trial#2 with value: 0.48055555555555557.\u001b[0m\n",
      "15\n",
      "/home/marcus/Aprendizado-de-Maquina-da-teoria-a-Pratica/praticas-minicurso-ml-master/p3-avaliacao/resultado.py:72: UndefinedMetricWarning: Não há elementos previstos para a classe 0 precisão foi definida como zero.\n",
      "  warnings.warn(\"Não há elementos previstos para a classe \"+str(classe)+\" precisão foi definida como zero.\", UndefinedMetricWarning)\n",
      "\u001b[32m[I 2020-07-27 21:50:40,086]\u001b[0m Finished trial#14 with value: 0.48055555555555557 with parameters: {'min_samples_split': 0.12984798614906046, 'max_features': 0.3192174694621572, 'num_arvores': 3}. Best is trial#2 with value: 0.48055555555555557.\u001b[0m\n",
      "16\n",
      "\u001b[32m[I 2020-07-27 21:50:40,186]\u001b[0m Finished trial#15 with value: 0.4777777777777778 with parameters: {'min_samples_split': 0.3543634479866557, 'max_features': 0.3970088596782199, 'num_arvores': 5}. Best is trial#2 with value: 0.48055555555555557.\u001b[0m\n",
      "17\n",
      "/home/marcus/Aprendizado-de-Maquina-da-teoria-a-Pratica/praticas-minicurso-ml-master/p3-avaliacao/resultado.py:72: UndefinedMetricWarning: Não há elementos previstos para a classe 0 precisão foi definida como zero.\n",
      "  warnings.warn(\"Não há elementos previstos para a classe \"+str(classe)+\" precisão foi definida como zero.\", UndefinedMetricWarning)\n",
      "/home/marcus/Aprendizado-de-Maquina-da-teoria-a-Pratica/praticas-minicurso-ml-master/p3-avaliacao/resultado.py:72: UndefinedMetricWarning: Não há elementos previstos para a classe 1 precisão foi definida como zero.\n",
      "  warnings.warn(\"Não há elementos previstos para a classe \"+str(classe)+\" precisão foi definida como zero.\", UndefinedMetricWarning)\n"
     ]
    },
    {
     "name": "stdout",
     "output_type": "stream",
     "text": [
      "/home/marcus/Aprendizado-de-Maquina-da-teoria-a-Pratica/praticas-minicurso-ml-master/p3-avaliacao/resultado.py:72: UndefinedMetricWarning: Não há elementos previstos para a classe 1 precisão foi definida como zero.\n",
      "  warnings.warn(\"Não há elementos previstos para a classe \"+str(classe)+\" precisão foi definida como zero.\", UndefinedMetricWarning)\n",
      "\u001b[32m[I 2020-07-27 21:50:40,280]\u001b[0m Finished trial#16 with value: 0.3277777777777778 with parameters: {'min_samples_split': 0.19461974313639613, 'max_features': 0.0022805757085812006, 'num_arvores': 4}. Best is trial#2 with value: 0.48055555555555557.\u001b[0m\n",
      "18\n",
      "/home/marcus/Aprendizado-de-Maquina-da-teoria-a-Pratica/praticas-minicurso-ml-master/p3-avaliacao/resultado.py:72: UndefinedMetricWarning: Não há elementos previstos para a classe 0 precisão foi definida como zero.\n",
      "  warnings.warn(\"Não há elementos previstos para a classe \"+str(classe)+\" precisão foi definida como zero.\", UndefinedMetricWarning)\n",
      "\u001b[32m[I 2020-07-27 21:50:40,364]\u001b[0m Finished trial#17 with value: 0.48055555555555557 with parameters: {'min_samples_split': 0.08717060085348986, 'max_features': 0.3190196514660515, 'num_arvores': 3}. Best is trial#2 with value: 0.48055555555555557.\u001b[0m\n",
      "19\n",
      "/home/marcus/Aprendizado-de-Maquina-da-teoria-a-Pratica/praticas-minicurso-ml-master/p3-avaliacao/resultado.py:72: UndefinedMetricWarning: Não há elementos previstos para a classe 0 precisão foi definida como zero.\n",
      "  warnings.warn(\"Não há elementos previstos para a classe \"+str(classe)+\" precisão foi definida como zero.\", UndefinedMetricWarning)\n",
      "\u001b[32m[I 2020-07-27 21:50:40,465]\u001b[0m Finished trial#18 with value: 0.48055555555555557 with parameters: {'min_samples_split': 0.0785251307879633, 'max_features': 0.1953111136836414, 'num_arvores': 5}. Best is trial#2 with value: 0.48055555555555557.\u001b[0m\n",
      "20\n",
      "/home/marcus/Aprendizado-de-Maquina-da-teoria-a-Pratica/praticas-minicurso-ml-master/p3-avaliacao/resultado.py:72: UndefinedMetricWarning: Não há elementos previstos para a classe 0 precisão foi definida como zero.\n",
      "  warnings.warn(\"Não há elementos previstos para a classe \"+str(classe)+\" precisão foi definida como zero.\", UndefinedMetricWarning)\n",
      "\u001b[32m[I 2020-07-27 21:50:40,552]\u001b[0m Finished trial#19 with value: 0.48055555555555557 with parameters: {'min_samples_split': 0.013867444781141186, 'max_features': 0.19216722474583217, 'num_arvores': 5}. Best is trial#2 with value: 0.48055555555555557.\u001b[0m\n",
      "21\n",
      "/home/marcus/Aprendizado-de-Maquina-da-teoria-a-Pratica/praticas-minicurso-ml-master/p3-avaliacao/resultado.py:72: UndefinedMetricWarning: Não há elementos previstos para a classe 0 precisão foi definida como zero.\n",
      "  warnings.warn(\"Não há elementos previstos para a classe \"+str(classe)+\" precisão foi definida como zero.\", UndefinedMetricWarning)\n",
      "/home/marcus/Aprendizado-de-Maquina-da-teoria-a-Pratica/praticas-minicurso-ml-master/p3-avaliacao/resultado.py:72: UndefinedMetricWarning: Não há elementos previstos para a classe 1 precisão foi definida como zero.\n",
      "  warnings.warn(\"Não há elementos previstos para a classe \"+str(classe)+\" precisão foi definida como zero.\", UndefinedMetricWarning)\n",
      "/home/marcus/Aprendizado-de-Maquina-da-teoria-a-Pratica/praticas-minicurso-ml-master/p3-avaliacao/resultado.py:72: UndefinedMetricWarning: Não há elementos previstos para a classe 1 precisão foi definida como zero.\n",
      "  warnings.warn(\"Não há elementos previstos para a classe \"+str(classe)+\" precisão foi definida como zero.\", UndefinedMetricWarning)\n",
      "\u001b[32m[I 2020-07-27 21:50:40,649]\u001b[0m Finished trial#20 with value: 0.3277777777777778 with parameters: {'min_samples_split': 0.004381695158067245, 'max_features': 0.39426958790675004, 'num_arvores': 4}. Best is trial#2 with value: 0.48055555555555557.\u001b[0m\n",
      "22\n",
      "/home/marcus/Aprendizado-de-Maquina-da-teoria-a-Pratica/praticas-minicurso-ml-master/p3-avaliacao/resultado.py:72: UndefinedMetricWarning: Não há elementos previstos para a classe 0 precisão foi definida como zero.\n",
      "  warnings.warn(\"Não há elementos previstos para a classe \"+str(classe)+\" precisão foi definida como zero.\", UndefinedMetricWarning)\n",
      "\u001b[32m[I 2020-07-27 21:50:40,758]\u001b[0m Finished trial#21 with value: 0.48055555555555557 with parameters: {'min_samples_split': 0.06427681076778821, 'max_features': 0.08409029416092632, 'num_arvores': 5}. Best is trial#2 with value: 0.48055555555555557.\u001b[0m\n",
      "23\n",
      "/home/marcus/Aprendizado-de-Maquina-da-teoria-a-Pratica/praticas-minicurso-ml-master/p3-avaliacao/resultado.py:72: UndefinedMetricWarning: Não há elementos previstos para a classe 0 precisão foi definida como zero.\n",
      "  warnings.warn(\"Não há elementos previstos para a classe \"+str(classe)+\" precisão foi definida como zero.\", UndefinedMetricWarning)\n",
      "\u001b[32m[I 2020-07-27 21:50:40,851]\u001b[0m Finished trial#22 with value: 0.48055555555555557 with parameters: {'min_samples_split': 0.049690237279352255, 'max_features': 0.09040664628933481, 'num_arvores': 5}. Best is trial#2 with value: 0.48055555555555557.\u001b[0m\n",
      "24\n",
      "/home/marcus/Aprendizado-de-Maquina-da-teoria-a-Pratica/praticas-minicurso-ml-master/p3-avaliacao/resultado.py:72: UndefinedMetricWarning: Não há elementos previstos para a classe 0 precisão foi definida como zero.\n",
      "  warnings.warn(\"Não há elementos previstos para a classe \"+str(classe)+\" precisão foi definida como zero.\", UndefinedMetricWarning)\n",
      "\u001b[32m[I 2020-07-27 21:50:40,957]\u001b[0m Finished trial#23 with value: 0.48055555555555557 with parameters: {'min_samples_split': 0.02637180360153152, 'max_features': 0.11414371449566318, 'num_arvores': 5}. Best is trial#2 with value: 0.48055555555555557.\u001b[0m\n",
      "25\n",
      "/home/marcus/Aprendizado-de-Maquina-da-teoria-a-Pratica/praticas-minicurso-ml-master/p3-avaliacao/resultado.py:72: UndefinedMetricWarning: Não há elementos previstos para a classe 0 precisão foi definida como zero.\n",
      "  warnings.warn(\"Não há elementos previstos para a classe \"+str(classe)+\" precisão foi definida como zero.\", UndefinedMetricWarning)\n",
      "\u001b[32m[I 2020-07-27 21:50:41,062]\u001b[0m Finished trial#24 with value: 0.48055555555555557 with parameters: {'min_samples_split': 0.15367176587486014, 'max_features': 0.00867207739078063, 'num_arvores': 5}. Best is trial#2 with value: 0.48055555555555557.\u001b[0m\n",
      "26\n",
      "/home/marcus/Aprendizado-de-Maquina-da-teoria-a-Pratica/praticas-minicurso-ml-master/p3-avaliacao/resultado.py:72: UndefinedMetricWarning: Não há elementos previstos para a classe 0 precisão foi definida como zero.\n",
      "  warnings.warn(\"Não há elementos previstos para a classe \"+str(classe)+\" precisão foi definida como zero.\", UndefinedMetricWarning)\n",
      "/home/marcus/Aprendizado-de-Maquina-da-teoria-a-Pratica/praticas-minicurso-ml-master/p3-avaliacao/resultado.py:72: UndefinedMetricWarning: Não há elementos previstos para a classe 1 precisão foi definida como zero.\n",
      "  warnings.warn(\"Não há elementos previstos para a classe \"+str(classe)+\" precisão foi definida como zero.\", UndefinedMetricWarning)\n",
      "/home/marcus/Aprendizado-de-Maquina-da-teoria-a-Pratica/praticas-minicurso-ml-master/p3-avaliacao/resultado.py:72: UndefinedMetricWarning: Não há elementos previstos para a classe 1 precisão foi definida como zero.\n",
      "  warnings.warn(\"Não há elementos previstos para a classe \"+str(classe)+\" precisão foi definida como zero.\", UndefinedMetricWarning)\n",
      "\u001b[32m[I 2020-07-27 21:50:41,161]\u001b[0m Finished trial#25 with value: 0.3277777777777778 with parameters: {'min_samples_split': 0.14173505973543682, 'max_features': 0.01639406957780191, 'num_arvores': 4}. Best is trial#2 with value: 0.48055555555555557.\u001b[0m\n",
      "27\n",
      "/home/marcus/Aprendizado-de-Maquina-da-teoria-a-Pratica/praticas-minicurso-ml-master/p3-avaliacao/resultado.py:72: UndefinedMetricWarning: Não há elementos previstos para a classe 0 precisão foi definida como zero.\n",
      "  warnings.warn(\"Não há elementos previstos para a classe \"+str(classe)+\" precisão foi definida como zero.\", UndefinedMetricWarning)\n",
      "\u001b[32m[I 2020-07-27 21:50:41,266]\u001b[0m Finished trial#26 with value: 0.48055555555555557 with parameters: {'min_samples_split': 0.015605240386814103, 'max_features': 0.1238162096653556, 'num_arvores': 5}. Best is trial#2 with value: 0.48055555555555557.\u001b[0m\n",
      "28\n",
      "/home/marcus/Aprendizado-de-Maquina-da-teoria-a-Pratica/praticas-minicurso-ml-master/p3-avaliacao/resultado.py:72: UndefinedMetricWarning: Não há elementos previstos para a classe 0 precisão foi definida como zero.\n",
      "  warnings.warn(\"Não há elementos previstos para a classe \"+str(classe)+\" precisão foi definida como zero.\", UndefinedMetricWarning)\n"
     ]
    },
    {
     "name": "stdout",
     "output_type": "stream",
     "text": [
      "/home/marcus/Aprendizado-de-Maquina-da-teoria-a-Pratica/praticas-minicurso-ml-master/p3-avaliacao/resultado.py:72: UndefinedMetricWarning: Não há elementos previstos para a classe 1 precisão foi definida como zero.\n",
      "  warnings.warn(\"Não há elementos previstos para a classe \"+str(classe)+\" precisão foi definida como zero.\", UndefinedMetricWarning)\n",
      "/home/marcus/Aprendizado-de-Maquina-da-teoria-a-Pratica/praticas-minicurso-ml-master/p3-avaliacao/resultado.py:72: UndefinedMetricWarning: Não há elementos previstos para a classe 1 precisão foi definida como zero.\n",
      "  warnings.warn(\"Não há elementos previstos para a classe \"+str(classe)+\" precisão foi definida como zero.\", UndefinedMetricWarning)\n",
      "\u001b[32m[I 2020-07-27 21:50:41,370]\u001b[0m Finished trial#27 with value: 0.3277777777777778 with parameters: {'min_samples_split': 0.2500059503378486, 'max_features': 0.03747260219572916, 'num_arvores': 4}. Best is trial#2 with value: 0.48055555555555557.\u001b[0m\n",
      "29\n",
      "/home/marcus/Aprendizado-de-Maquina-da-teoria-a-Pratica/praticas-minicurso-ml-master/p3-avaliacao/resultado.py:72: UndefinedMetricWarning: Não há elementos previstos para a classe 0 precisão foi definida como zero.\n",
      "  warnings.warn(\"Não há elementos previstos para a classe \"+str(classe)+\" precisão foi definida como zero.\", UndefinedMetricWarning)\n",
      "/home/marcus/Aprendizado-de-Maquina-da-teoria-a-Pratica/praticas-minicurso-ml-master/p3-avaliacao/resultado.py:72: UndefinedMetricWarning: Não há elementos previstos para a classe 0 precisão foi definida como zero.\n",
      "  warnings.warn(\"Não há elementos previstos para a classe \"+str(classe)+\" precisão foi definida como zero.\", UndefinedMetricWarning)\n",
      "\u001b[32m[I 2020-07-27 21:50:41,452]\u001b[0m Finished trial#28 with value: 0.3194444444444444 with parameters: {'min_samples_split': 0.0847677658189832, 'max_features': 0.2942955669831811, 'num_arvores': 1}. Best is trial#2 with value: 0.48055555555555557.\u001b[0m\n",
      "30\n",
      "/home/marcus/Aprendizado-de-Maquina-da-teoria-a-Pratica/praticas-minicurso-ml-master/p3-avaliacao/resultado.py:72: UndefinedMetricWarning: Não há elementos previstos para a classe 1 precisão foi definida como zero.\n",
      "  warnings.warn(\"Não há elementos previstos para a classe \"+str(classe)+\" precisão foi definida como zero.\", UndefinedMetricWarning)\n",
      "/home/marcus/Aprendizado-de-Maquina-da-teoria-a-Pratica/praticas-minicurso-ml-master/p3-avaliacao/resultado.py:72: UndefinedMetricWarning: Não há elementos previstos para a classe 1 precisão foi definida como zero.\n",
      "  warnings.warn(\"Não há elementos previstos para a classe \"+str(classe)+\" precisão foi definida como zero.\", UndefinedMetricWarning)\n",
      "/home/marcus/Aprendizado-de-Maquina-da-teoria-a-Pratica/praticas-minicurso-ml-master/p3-avaliacao/resultado.py:72: UndefinedMetricWarning: Não há elementos previstos para a classe 1 precisão foi definida como zero.\n",
      "  warnings.warn(\"Não há elementos previstos para a classe \"+str(classe)+\" precisão foi definida como zero.\", UndefinedMetricWarning)\n",
      "/home/marcus/Aprendizado-de-Maquina-da-teoria-a-Pratica/praticas-minicurso-ml-master/p3-avaliacao/resultado.py:72: UndefinedMetricWarning: Não há elementos previstos para a classe 1 precisão foi definida como zero.\n",
      "  warnings.warn(\"Não há elementos previstos para a classe \"+str(classe)+\" precisão foi definida como zero.\", UndefinedMetricWarning)\n",
      "\u001b[32m[I 2020-07-27 21:50:41,534]\u001b[0m Finished trial#29 with value: 0.4055555555555556 with parameters: {'min_samples_split': 0.12914476031408328, 'max_features': 0.2155279947994088, 'num_arvores': 2}. Best is trial#2 with value: 0.48055555555555557.\u001b[0m\n",
      "{'min_samples_split': 0.208511002351287, 'max_features': 0.36016224672107905, 'num_arvores': 2}\n",
      "{'min_samples_split': 0.15116628631591988, 'max_features': 0.07337794540855652, 'num_arvores': 1}\n",
      "{'min_samples_split': 0.19829036364801306, 'max_features': 0.1939553705810037, 'num_arvores': 5}\n",
      "{'min_samples_split': 0.19838373711533497, 'max_features': 0.2694083670016785, 'num_arvores': 3}\n",
      "{'min_samples_split': 0.2622740797864357, 'max_features': 0.22172644688977833, 'num_arvores': 5}\n",
      "{'min_samples_split': 0.013693796598963082, 'max_features': 0.3352337550892011, 'num_arvores': 2}\n",
      "{'min_samples_split': 0.21534928359235422, 'max_features': 0.46956389471181287, 'num_arvores': 2}\n",
      "{'min_samples_split': 0.48413078785969876, 'max_features': 0.15671208907962142, 'num_arvores': 2}\n",
      "{'min_samples_split': 0.43819457614801915, 'max_features': 0.44730333175192366, 'num_arvores': 1}\n",
      "{'min_samples_split': 0.4148016796970918, 'max_features': 0.13652498710837369, 'num_arvores': 3}\n",
      "{'min_samples_split': 0.05219583088403967, 'max_features': 0.06479321027429591, 'num_arvores': 5}\n",
      "{'min_samples_split': 0.31815163380970113, 'max_features': 0.284041978716814, 'num_arvores': 4}\n",
      "{'min_samples_split': 0.11291709172923867, 'max_features': 0.23681982158558643, 'num_arvores': 4}\n",
      "{'min_samples_split': 0.2949968946035284, 'max_features': 0.17362826761019132, 'num_arvores': 4}\n",
      "{'min_samples_split': 0.12984798614906046, 'max_features': 0.3192174694621572, 'num_arvores': 3}\n",
      "{'min_samples_split': 0.3543634479866557, 'max_features': 0.3970088596782199, 'num_arvores': 5}\n",
      "{'min_samples_split': 0.19461974313639613, 'max_features': 0.0022805757085812006, 'num_arvores': 4}\n",
      "{'min_samples_split': 0.08717060085348986, 'max_features': 0.3190196514660515, 'num_arvores': 3}\n",
      "{'min_samples_split': 0.0785251307879633, 'max_features': 0.1953111136836414, 'num_arvores': 5}\n",
      "{'min_samples_split': 0.013867444781141186, 'max_features': 0.19216722474583217, 'num_arvores': 5}\n",
      "{'min_samples_split': 0.004381695158067245, 'max_features': 0.39426958790675004, 'num_arvores': 4}\n",
      "{'min_samples_split': 0.06427681076778821, 'max_features': 0.08409029416092632, 'num_arvores': 5}\n",
      "{'min_samples_split': 0.049690237279352255, 'max_features': 0.09040664628933481, 'num_arvores': 5}\n",
      "{'min_samples_split': 0.02637180360153152, 'max_features': 0.11414371449566318, 'num_arvores': 5}\n",
      "{'min_samples_split': 0.15367176587486014, 'max_features': 0.00867207739078063, 'num_arvores': 5}\n",
      "{'min_samples_split': 0.14173505973543682, 'max_features': 0.01639406957780191, 'num_arvores': 4}\n",
      "{'min_samples_split': 0.015605240386814103, 'max_features': 0.1238162096653556, 'num_arvores': 5}\n",
      "{'min_samples_split': 0.2500059503378486, 'max_features': 0.03747260219572916, 'num_arvores': 4}\n",
      "{'min_samples_split': 0.0847677658189832, 'max_features': 0.2942955669831811, 'num_arvores': 1}\n",
      "{'min_samples_split': 0.12914476031408328, 'max_features': 0.2155279947994088, 'num_arvores': 2}\n",
      "Melhor execução: {'min_samples_split': 0.19829036364801306, 'max_features': 0.1939553705810037, 'num_arvores': 5}\n",
      "Resultado: 0.3650793650793651\n",
      ".\n",
      "----------------------------------------------------------------------\n",
      "Ran 1 test in 2.583s\n",
      "\n",
      "OK\n",
      "\u001b[0m"
     ]
    }
   ],
   "source": [
    "!python3 -m tests TestObjetivoOtimizacaoRF.test_otimizacao"
   ]
  },
  {
   "cell_type": "markdown",
   "metadata": {},
   "source": [
    "- O warning é que, em alguns casos, em alguma classe, não há previsão para a mesma e, assim, daria divisão por zero. Como é um exemplo pequeno, isso é natural ocorrer. Se fosse um exemplo real, seria interessante investigar para evitar que uma classe não tenha previsão. Por exemplo: será que existe exemplos o suficiente para esta classe? "
   ]
  },
  {
   "cell_type": "markdown",
   "metadata": {},
   "source": [
    "**Atividade 5 - método `calcula_resultados` da classe Experimento**: Esse método deve calcular os resultados para cada fold (navegando no atributo `folds`) e, para isso, se houver fold de validação e tiver uma classe de otimização definida, deve obter o melhor método nos folds de validação e aplicá-lo no teste para obter o resultado. \n",
    "\n"
   ]
  },
  {
   "cell_type": "code",
   "execution_count": 1,
   "metadata": {},
   "outputs": [
    {
     "name": "stdout",
     "output_type": "stream",
     "text": [
      "1\n",
      "\u001b[33m[W 2020-07-27 21:44:46,833]\u001b[0m Setting status of trial#0 as TrialState.FAIL because of the following error: ZeroDivisionError('division by zero')\n",
      "Traceback (most recent call last):\n",
      "  File \"/home/marcus/.local/lib/python3.8/site-packages/optuna/study.py\", line 734, in _run_trial\n",
      "    result = func(trial)\n",
      "  File \"/home/marcus/Aprendizado-de-Maquina-da-teoria-a-Pratica/praticas-minicurso-ml-master/p3-avaliacao/avaliacao.py\", line 104, in __call__\n",
      "    return sum/len(self.fold.arr_folds_validacao)\n",
      "ZeroDivisionError: division by zero\u001b[0m\n",
      "E\n",
      "======================================================================\n",
      "ERROR: test_resultados (__main__.ExperimentoTest)\n",
      "----------------------------------------------------------------------\n",
      "Traceback (most recent call last):\n",
      "  File \"/home/marcus/Aprendizado-de-Maquina-da-teoria-a-Pratica/praticas-minicurso-ml-master/p3-avaliacao/tests.py\", line 185, in test_resultados\n",
      "    exp.calcula_resultados()\n",
      "  File \"/home/marcus/Aprendizado-de-Maquina-da-teoria-a-Pratica/praticas-minicurso-ml-master/p3-avaliacao/avaliacao.py\", line 54, in calcula_resultados\n",
      "    study.optimize(objetivo_otimizacao, n_trials=30)\n",
      "  File \"/home/marcus/.local/lib/python3.8/site-packages/optuna/study.py\", line 338, in optimize\n",
      "    self._optimize_sequential(\n",
      "  File \"/home/marcus/.local/lib/python3.8/site-packages/optuna/study.py\", line 682, in _optimize_sequential\n",
      "    self._run_trial_and_callbacks(func, catch, callbacks, gc_after_trial)\n",
      "  File \"/home/marcus/.local/lib/python3.8/site-packages/optuna/study.py\", line 713, in _run_trial_and_callbacks\n",
      "    trial = self._run_trial(func, catch, gc_after_trial)\n",
      "  File \"/home/marcus/.local/lib/python3.8/site-packages/optuna/study.py\", line 734, in _run_trial\n",
      "    result = func(trial)\n",
      "  File \"/home/marcus/Aprendizado-de-Maquina-da-teoria-a-Pratica/praticas-minicurso-ml-master/p3-avaliacao/avaliacao.py\", line 104, in __call__\n",
      "    return sum/len(self.fold.arr_folds_validacao)\n",
      "ZeroDivisionError: division by zero\n",
      "\n",
      "----------------------------------------------------------------------\n",
      "Ran 1 test in 0.033s\n",
      "\n",
      "FAILED (errors=1)\n",
      "\u001b[0m"
     ]
    }
   ],
   "source": [
    "!python3 -m tests ExperimentoTest.test_resultados"
   ]
  },
  {
   "cell_type": "markdown",
   "metadata": {},
   "source": [
    "**Atividade 6 - propriedade (atributo calculado) macro_f1_avg: ** Usando os resultados no teste (atributo resultados) calcule o macro f1 médio."
   ]
  },
  {
   "cell_type": "code",
   "execution_count": 14,
   "metadata": {
    "scrolled": false
   },
   "outputs": [
    {
     "name": "stdout",
     "output_type": "stream",
     "text": [
      "Macro F1 médio:None\r\n",
      "E\r\n",
      "======================================================================\r\n",
      "ERROR: test_macro_f1_avg (__main__.ExperimentoTest)\r\n",
      "----------------------------------------------------------------------\r\n",
      "Traceback (most recent call last):\r\n",
      "  File \"/home/marcus/Aprendizado-de-Maquina-da-teoria-a-Pratica/praticas-minicurso-ml-master/p3-avaliacao/tests.py\", line 175, in test_macro_f1_avg\r\n",
      "    self.assertAlmostEqual(exp.macro_f1_avg,0.3136507936507936,msg=\"Valor inesperado de Macro F1\")\r\n",
      "  File \"/usr/lib/python3.8/unittest/case.py\", line 943, in assertAlmostEqual\r\n",
      "    diff = abs(first - second)\r\n",
      "TypeError: unsupported operand type(s) for -: 'NoneType' and 'float'\r\n",
      "\r\n",
      "----------------------------------------------------------------------\r\n",
      "Ran 1 test in 0.006s\r\n",
      "\r\n",
      "FAILED (errors=1)\r\n"
     ]
    }
   ],
   "source": [
    "!python3 -m tests ExperimentoTest.test_macro_f1_avg"
   ]
  },
  {
   "cell_type": "markdown",
   "metadata": {},
   "source": [
    "## Analise dos parametros"
   ]
  },
  {
   "cell_type": "markdown",
   "metadata": {},
   "source": [
    "Nesta parte você irá ver uma representação tabular e grafica que o auxiliará para analise de parametros. A representação grafica é por meio do hiplot. "
   ]
  },
  {
   "cell_type": "code",
   "execution_count": 15,
   "metadata": {},
   "outputs": [
    {
     "name": "stdout",
     "output_type": "stream",
     "text": [
      "1\n"
     ]
    },
    {
     "name": "stderr",
     "output_type": "stream",
     "text": [
      "[W 2020-07-27 21:39:36,626] Setting status of trial#0 as TrialState.FAIL because of the following error: ZeroDivisionError('division by zero')\n",
      "Traceback (most recent call last):\n",
      "  File \"/home/marcus/.local/lib/python3.8/site-packages/optuna/study.py\", line 734, in _run_trial\n",
      "    result = func(trial)\n",
      "  File \"/home/marcus/Aprendizado-de-Maquina-da-teoria-a-Pratica/praticas-minicurso-ml-master/p3-avaliacao/avaliacao.py\", line 104, in __call__\n",
      "    return sum/len(self.fold.arr_folds_validacao)\n",
      "ZeroDivisionError: division by zero\n"
     ]
    },
    {
     "ename": "ZeroDivisionError",
     "evalue": "division by zero",
     "output_type": "error",
     "traceback": [
      "\u001b[0;31m---------------------------------------------------------------------------\u001b[0m",
      "\u001b[0;31mZeroDivisionError\u001b[0m                         Traceback (most recent call last)",
      "\u001b[0;32m<ipython-input-15-de474d267d1a>\u001b[0m in \u001b[0;36m<module>\u001b[0;34m\u001b[0m\n\u001b[1;32m     18\u001b[0m exp = Experimento(folds,ml_method, OtimizacaoObjetivoRandomForest, num_trials=10,\n\u001b[1;32m     19\u001b[0m                     sampler=optuna.samplers.TPESampler(seed=1, n_startup_trials=3))\n\u001b[0;32m---> 20\u001b[0;31m \u001b[0mexp\u001b[0m\u001b[0;34m.\u001b[0m\u001b[0mcalcula_resultados\u001b[0m\u001b[0;34m(\u001b[0m\u001b[0;34m)\u001b[0m\u001b[0;34m\u001b[0m\u001b[0;34m\u001b[0m\u001b[0m\n\u001b[0m\u001b[1;32m     21\u001b[0m \u001b[0;34m\u001b[0m\u001b[0m\n",
      "\u001b[0;32m~/Aprendizado-de-Maquina-da-teoria-a-Pratica/praticas-minicurso-ml-master/p3-avaliacao/avaliacao.py\u001b[0m in \u001b[0;36mcalcula_resultados\u001b[0;34m(self)\u001b[0m\n\u001b[1;32m     52\u001b[0m                 \u001b[0mstudy\u001b[0m \u001b[0;34m=\u001b[0m \u001b[0moptuna\u001b[0m\u001b[0;34m.\u001b[0m\u001b[0mcreate_study\u001b[0m\u001b[0;34m(\u001b[0m\u001b[0;34m)\u001b[0m\u001b[0;34m\u001b[0m\u001b[0;34m\u001b[0m\u001b[0m\n\u001b[1;32m     53\u001b[0m                 \u001b[0mobjetivo_otimizacao\u001b[0m \u001b[0;34m=\u001b[0m \u001b[0mself\u001b[0m\u001b[0;34m.\u001b[0m\u001b[0mClasseObjetivoOtimizacao\u001b[0m\u001b[0;34m(\u001b[0m\u001b[0mfold\u001b[0m\u001b[0;34m)\u001b[0m\u001b[0;34m\u001b[0m\u001b[0;34m\u001b[0m\u001b[0m\n\u001b[0;32m---> 54\u001b[0;31m                 \u001b[0mstudy\u001b[0m\u001b[0;34m.\u001b[0m\u001b[0moptimize\u001b[0m\u001b[0;34m(\u001b[0m\u001b[0mobjetivo_otimizacao\u001b[0m\u001b[0;34m,\u001b[0m \u001b[0mn_trials\u001b[0m\u001b[0;34m=\u001b[0m\u001b[0;36m30\u001b[0m\u001b[0;34m)\u001b[0m\u001b[0;34m\u001b[0m\u001b[0;34m\u001b[0m\u001b[0m\n\u001b[0m\u001b[1;32m     55\u001b[0m \u001b[0;34m\u001b[0m\u001b[0m\n\u001b[1;32m     56\u001b[0m                 \u001b[0;31m#1.(a) obtem o melhor metodo da otimização\u001b[0m\u001b[0;34m\u001b[0m\u001b[0;34m\u001b[0m\u001b[0;34m\u001b[0m\u001b[0m\n",
      "\u001b[0;32m~/.local/lib/python3.8/site-packages/optuna/study.py\u001b[0m in \u001b[0;36moptimize\u001b[0;34m(self, func, n_trials, timeout, n_jobs, catch, callbacks, gc_after_trial, show_progress_bar)\u001b[0m\n\u001b[1;32m    336\u001b[0m         \u001b[0;32mtry\u001b[0m\u001b[0;34m:\u001b[0m\u001b[0;34m\u001b[0m\u001b[0;34m\u001b[0m\u001b[0m\n\u001b[1;32m    337\u001b[0m             \u001b[0;32mif\u001b[0m \u001b[0mn_jobs\u001b[0m \u001b[0;34m==\u001b[0m \u001b[0;36m1\u001b[0m\u001b[0;34m:\u001b[0m\u001b[0;34m\u001b[0m\u001b[0;34m\u001b[0m\u001b[0m\n\u001b[0;32m--> 338\u001b[0;31m                 self._optimize_sequential(\n\u001b[0m\u001b[1;32m    339\u001b[0m                     \u001b[0mfunc\u001b[0m\u001b[0;34m,\u001b[0m \u001b[0mn_trials\u001b[0m\u001b[0;34m,\u001b[0m \u001b[0mtimeout\u001b[0m\u001b[0;34m,\u001b[0m \u001b[0mcatch\u001b[0m\u001b[0;34m,\u001b[0m \u001b[0mcallbacks\u001b[0m\u001b[0;34m,\u001b[0m \u001b[0mgc_after_trial\u001b[0m\u001b[0;34m,\u001b[0m \u001b[0;32mNone\u001b[0m\u001b[0;34m\u001b[0m\u001b[0;34m\u001b[0m\u001b[0m\n\u001b[1;32m    340\u001b[0m                 )\n",
      "\u001b[0;32m~/.local/lib/python3.8/site-packages/optuna/study.py\u001b[0m in \u001b[0;36m_optimize_sequential\u001b[0;34m(self, func, n_trials, timeout, catch, callbacks, gc_after_trial, time_start)\u001b[0m\n\u001b[1;32m    680\u001b[0m                     \u001b[0;32mbreak\u001b[0m\u001b[0;34m\u001b[0m\u001b[0;34m\u001b[0m\u001b[0m\n\u001b[1;32m    681\u001b[0m \u001b[0;34m\u001b[0m\u001b[0m\n\u001b[0;32m--> 682\u001b[0;31m             \u001b[0mself\u001b[0m\u001b[0;34m.\u001b[0m\u001b[0m_run_trial_and_callbacks\u001b[0m\u001b[0;34m(\u001b[0m\u001b[0mfunc\u001b[0m\u001b[0;34m,\u001b[0m \u001b[0mcatch\u001b[0m\u001b[0;34m,\u001b[0m \u001b[0mcallbacks\u001b[0m\u001b[0;34m,\u001b[0m \u001b[0mgc_after_trial\u001b[0m\u001b[0;34m)\u001b[0m\u001b[0;34m\u001b[0m\u001b[0;34m\u001b[0m\u001b[0m\n\u001b[0m\u001b[1;32m    683\u001b[0m \u001b[0;34m\u001b[0m\u001b[0m\n\u001b[1;32m    684\u001b[0m             \u001b[0mself\u001b[0m\u001b[0;34m.\u001b[0m\u001b[0m_progress_bar\u001b[0m\u001b[0;34m.\u001b[0m\u001b[0mupdate\u001b[0m\u001b[0;34m(\u001b[0m\u001b[0;34m(\u001b[0m\u001b[0mdatetime\u001b[0m\u001b[0;34m.\u001b[0m\u001b[0mdatetime\u001b[0m\u001b[0;34m.\u001b[0m\u001b[0mnow\u001b[0m\u001b[0;34m(\u001b[0m\u001b[0;34m)\u001b[0m \u001b[0;34m-\u001b[0m \u001b[0mtime_start\u001b[0m\u001b[0;34m)\u001b[0m\u001b[0;34m.\u001b[0m\u001b[0mtotal_seconds\u001b[0m\u001b[0;34m(\u001b[0m\u001b[0;34m)\u001b[0m\u001b[0;34m)\u001b[0m\u001b[0;34m\u001b[0m\u001b[0;34m\u001b[0m\u001b[0m\n",
      "\u001b[0;32m~/.local/lib/python3.8/site-packages/optuna/study.py\u001b[0m in \u001b[0;36m_run_trial_and_callbacks\u001b[0;34m(self, func, catch, callbacks, gc_after_trial)\u001b[0m\n\u001b[1;32m    711\u001b[0m         \u001b[0;31m# type: (...) -> None\u001b[0m\u001b[0;34m\u001b[0m\u001b[0;34m\u001b[0m\u001b[0;34m\u001b[0m\u001b[0m\n\u001b[1;32m    712\u001b[0m \u001b[0;34m\u001b[0m\u001b[0m\n\u001b[0;32m--> 713\u001b[0;31m         \u001b[0mtrial\u001b[0m \u001b[0;34m=\u001b[0m \u001b[0mself\u001b[0m\u001b[0;34m.\u001b[0m\u001b[0m_run_trial\u001b[0m\u001b[0;34m(\u001b[0m\u001b[0mfunc\u001b[0m\u001b[0;34m,\u001b[0m \u001b[0mcatch\u001b[0m\u001b[0;34m,\u001b[0m \u001b[0mgc_after_trial\u001b[0m\u001b[0;34m)\u001b[0m\u001b[0;34m\u001b[0m\u001b[0;34m\u001b[0m\u001b[0m\n\u001b[0m\u001b[1;32m    714\u001b[0m         \u001b[0;32mif\u001b[0m \u001b[0mcallbacks\u001b[0m \u001b[0;32mis\u001b[0m \u001b[0;32mnot\u001b[0m \u001b[0;32mNone\u001b[0m\u001b[0;34m:\u001b[0m\u001b[0;34m\u001b[0m\u001b[0;34m\u001b[0m\u001b[0m\n\u001b[1;32m    715\u001b[0m             \u001b[0mfrozen_trial\u001b[0m \u001b[0;34m=\u001b[0m \u001b[0mcopy\u001b[0m\u001b[0;34m.\u001b[0m\u001b[0mdeepcopy\u001b[0m\u001b[0;34m(\u001b[0m\u001b[0mself\u001b[0m\u001b[0;34m.\u001b[0m\u001b[0m_storage\u001b[0m\u001b[0;34m.\u001b[0m\u001b[0mget_trial\u001b[0m\u001b[0;34m(\u001b[0m\u001b[0mtrial\u001b[0m\u001b[0;34m.\u001b[0m\u001b[0m_trial_id\u001b[0m\u001b[0;34m)\u001b[0m\u001b[0;34m)\u001b[0m\u001b[0;34m\u001b[0m\u001b[0;34m\u001b[0m\u001b[0m\n",
      "\u001b[0;32m~/.local/lib/python3.8/site-packages/optuna/study.py\u001b[0m in \u001b[0;36m_run_trial\u001b[0;34m(self, func, catch, gc_after_trial)\u001b[0m\n\u001b[1;32m    732\u001b[0m \u001b[0;34m\u001b[0m\u001b[0m\n\u001b[1;32m    733\u001b[0m         \u001b[0;32mtry\u001b[0m\u001b[0;34m:\u001b[0m\u001b[0;34m\u001b[0m\u001b[0;34m\u001b[0m\u001b[0m\n\u001b[0;32m--> 734\u001b[0;31m             \u001b[0mresult\u001b[0m \u001b[0;34m=\u001b[0m \u001b[0mfunc\u001b[0m\u001b[0;34m(\u001b[0m\u001b[0mtrial\u001b[0m\u001b[0;34m)\u001b[0m\u001b[0;34m\u001b[0m\u001b[0;34m\u001b[0m\u001b[0m\n\u001b[0m\u001b[1;32m    735\u001b[0m         \u001b[0;32mexcept\u001b[0m \u001b[0mexceptions\u001b[0m\u001b[0;34m.\u001b[0m\u001b[0mTrialPruned\u001b[0m \u001b[0;32mas\u001b[0m \u001b[0me\u001b[0m\u001b[0;34m:\u001b[0m\u001b[0;34m\u001b[0m\u001b[0;34m\u001b[0m\u001b[0m\n\u001b[1;32m    736\u001b[0m             message = \"Setting status of trial#{} as {}. {}\".format(\n",
      "\u001b[0;32m~/Aprendizado-de-Maquina-da-teoria-a-Pratica/praticas-minicurso-ml-master/p3-avaliacao/avaliacao.py\u001b[0m in \u001b[0;36m__call__\u001b[0;34m(self, trial)\u001b[0m\n\u001b[1;32m    102\u001b[0m             \u001b[0msum\u001b[0m \u001b[0;34m+=\u001b[0m \u001b[0mself\u001b[0m\u001b[0;34m.\u001b[0m\u001b[0mresultado_metrica_otimizacao\u001b[0m\u001b[0;34m(\u001b[0m\u001b[0mresultado\u001b[0m\u001b[0;34m)\u001b[0m\u001b[0;34m\u001b[0m\u001b[0;34m\u001b[0m\u001b[0m\n\u001b[1;32m    103\u001b[0m \u001b[0;34m\u001b[0m\u001b[0m\n\u001b[0;32m--> 104\u001b[0;31m         \u001b[0;32mreturn\u001b[0m \u001b[0msum\u001b[0m\u001b[0;34m/\u001b[0m\u001b[0mlen\u001b[0m\u001b[0;34m(\u001b[0m\u001b[0mself\u001b[0m\u001b[0;34m.\u001b[0m\u001b[0mfold\u001b[0m\u001b[0;34m.\u001b[0m\u001b[0marr_folds_validacao\u001b[0m\u001b[0;34m)\u001b[0m\u001b[0;34m\u001b[0m\u001b[0;34m\u001b[0m\u001b[0m\n\u001b[0m\u001b[1;32m    105\u001b[0m \u001b[0;34m\u001b[0m\u001b[0m\n\u001b[1;32m    106\u001b[0m \u001b[0;32mclass\u001b[0m \u001b[0mOtimizacaoObjetivoArvoreDecisao\u001b[0m\u001b[0;34m(\u001b[0m\u001b[0mOtimizacaoObjetivo\u001b[0m\u001b[0;34m)\u001b[0m\u001b[0;34m:\u001b[0m\u001b[0;34m\u001b[0m\u001b[0;34m\u001b[0m\u001b[0m\n",
      "\u001b[0;31mZeroDivisionError\u001b[0m: division by zero"
     ]
    }
   ],
   "source": [
    "import hiplot as hip \n",
    "from sklearn.ensemble import RandomForestClassifier\n",
    "import optuna\n",
    "\n",
    "from avaliacao import Experimento, OtimizacaoObjetivoRandomForest, Experimento\n",
    "from resultado import Resultado,Fold\n",
    "from metodo import ScikitLearnAprendizadoDeMaquina\n",
    "from tests import Dados\n",
    "\n",
    "\n",
    "#gera o fold e p experimento\n",
    "folds = Fold.gerar_k_folds(Dados.df_dados,val_k=5,col_classe=\"realClass\",\n",
    "                            num_repeticoes=1,seed=1,\n",
    "                            num_folds_validacao=3,num_repeticoes_validacao=2)\n",
    "\n",
    "clf_dtree = RandomForestClassifier(random_state=1)\n",
    "ml_method = ScikitLearnAprendizadoDeMaquina(clf_dtree)\n",
    "exp = Experimento(folds,ml_method, OtimizacaoObjetivoRandomForest, num_trials=10,\n",
    "                    sampler=optuna.samplers.TPESampler(seed=1, n_startup_trials=3))\n",
    "exp.calcula_resultados()\n",
    "\n"
   ]
  },
  {
   "cell_type": "markdown",
   "metadata": {},
   "source": [
    "Forma tabular via dataframe:"
   ]
  },
  {
   "cell_type": "code",
   "execution_count": null,
   "metadata": {},
   "outputs": [],
   "source": [
    "studdy_fold_0 = exp.studies_per_fold[0]\n",
    "studdy_fold_0.trials_dataframe().sort_values(\"value\",ascending=False)"
   ]
  },
  {
   "cell_type": "code",
   "execution_count": null,
   "metadata": {},
   "outputs": [],
   "source": [
    "#gera grafico da variacao de parametros (apenas fold 0)\n",
    "trials_fold_0 = exp.studies_per_fold[0].trials\n",
    "data = [{**trial.params, 'loss': trial.value} for trial in trials_fold_0]\n",
    "#data = [{'dropout':0.1, 'lr': 0.001, 'loss': 10.0, 'optimizer': 'SGD'}, {'dropout':0.15, 'lr': 0.01, 'loss': 3.5, 'optimizer': 'Adam'}, {'dropout':0.3, 'lr': 0.1, 'loss': 4.5, 'optimizer': 'Adam'}]\n",
    "hip.Experiment.from_iterable(data).display(force_full_width=True)"
   ]
  },
  {
   "cell_type": "markdown",
   "metadata": {},
   "source": [
    "Você analisou só um fold. Pode-se analisar diversos folds e, principalmente, ver se os melhores parametros de um fold é muito parecido ou não que o outro. Para a prática, fizemos com poucas tentativas. O ideal também é fazemos tentativas. Pelo menos centenas , porém, caso esteja muito dificil de encontrar parametros com bons resultados - ou a quantidade de parametros seja muito grande - seria interessante milhares. Sobre a quantidade de folds, geralmente usa-se muito 10 folds. \n",
    "\n",
    "A quantidade de tentativas e folds é um dos motivos que o tempo de execução e obtenção dos resultados de um método é muito demorada (podendo, as vezes, demorar dias/semanas). Por isso também, é muito importante salvar o modelo criado."
   ]
  }
 ],
 "metadata": {
  "kernelspec": {
   "display_name": "Python 3",
   "language": "python",
   "name": "python3"
  },
  "language_info": {
   "codemirror_mode": {
    "name": "ipython",
    "version": 3
   },
   "file_extension": ".py",
   "mimetype": "text/x-python",
   "name": "python",
   "nbconvert_exporter": "python",
   "pygments_lexer": "ipython3",
   "version": "3.8.2"
  }
 },
 "nbformat": 4,
 "nbformat_minor": 2
}
