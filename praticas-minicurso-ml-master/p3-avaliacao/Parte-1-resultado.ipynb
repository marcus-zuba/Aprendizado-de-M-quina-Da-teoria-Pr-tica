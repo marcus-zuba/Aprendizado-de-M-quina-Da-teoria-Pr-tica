{
 "cells": [
  {
   "cell_type": "markdown",
   "metadata": {},
   "source": [
    "## Prática: Criação da configuração experimental e avaliação dos resultados"
   ]
  },
  {
   "cell_type": "markdown",
   "metadata": {},
   "source": [
    "## Grupo\n",
    "\n",
    "* Arthur Sabioni\n",
    "* Eduardo Martins\n",
    "* Felipe Morais\n",
    "* Iagor de Sousa\n",
    "* Marcus Durães"
   ]
  },
  {
   "cell_type": "code",
   "execution_count": 1,
   "metadata": {},
   "outputs": [
    {
     "name": "stdout",
     "output_type": "stream",
     "text": [
      "Requirement already satisfied: optuna in c:\\users\\marcu\\appdata\\local\\programs\\python\\python37-32\\lib\\site-packages (1.5.0)\n",
      "Requirement already satisfied: hiplot in c:\\users\\marcu\\appdata\\local\\programs\\python\\python37-32\\lib\\site-packages (0.1.18)\n",
      "Requirement already satisfied: numpy in c:\\users\\marcu\\appdata\\local\\programs\\python\\python37-32\\lib\\site-packages (1.18.4)\n",
      "Requirement already satisfied: cliff in c:\\users\\marcu\\appdata\\local\\programs\\python\\python37-32\\lib\\site-packages (from optuna) (3.3.0)\n",
      "Requirement already satisfied: scipy!=1.4.0 in c:\\users\\marcu\\appdata\\local\\programs\\python\\python37-32\\lib\\site-packages (from optuna) (1.5.1)\n",
      "Requirement already satisfied: tqdm in c:\\users\\marcu\\appdata\\local\\programs\\python\\python37-32\\lib\\site-packages (from optuna) (4.46.0)\n",
      "Requirement already satisfied: joblib in c:\\users\\marcu\\appdata\\local\\programs\\python\\python37-32\\lib\\site-packages (from optuna) (0.16.0)\n",
      "Requirement already satisfied: colorlog in c:\\users\\marcu\\appdata\\local\\programs\\python\\python37-32\\lib\\site-packages (from optuna) (4.1.0)\n",
      "Requirement already satisfied: cmaes>=0.5.0 in c:\\users\\marcu\\appdata\\local\\programs\\python\\python37-32\\lib\\site-packages (from optuna) (0.5.1)\n",
      "Requirement already satisfied: sqlalchemy>=1.1.0 in c:\\users\\marcu\\appdata\\local\\programs\\python\\python37-32\\lib\\site-packages (from optuna) (1.3.18)\n",
      "Requirement already satisfied: alembic in c:\\users\\marcu\\appdata\\local\\programs\\python\\python37-32\\lib\\site-packages (from optuna) (1.4.2)\n",
      "Requirement already satisfied: flask in c:\\users\\marcu\\appdata\\local\\programs\\python\\python37-32\\lib\\site-packages (from hiplot) (1.1.2)\n",
      "Requirement already satisfied: beautifulsoup4 in c:\\users\\marcu\\appdata\\local\\programs\\python\\python37-32\\lib\\site-packages (from hiplot) (4.9.1)\n",
      "Requirement already satisfied: ipython>=7.0.1 in c:\\users\\marcu\\appdata\\local\\programs\\python\\python37-32\\lib\\site-packages (from hiplot) (7.15.0)\n",
      "Requirement already satisfied: flask-compress in c:\\users\\marcu\\appdata\\local\\programs\\python\\python37-32\\lib\\site-packages (from hiplot) (1.5.0)\n",
      "Requirement already satisfied: stevedore>=1.20.0 in c:\\users\\marcu\\appdata\\local\\programs\\python\\python37-32\\lib\\site-packages (from cliff->optuna) (3.2.0)\n",
      "Requirement already satisfied: cmd2!=0.8.3,>=0.8.0 in c:\\users\\marcu\\appdata\\local\\programs\\python\\python37-32\\lib\\site-packages (from cliff->optuna) (1.2.1)\n",
      "Requirement already satisfied: PrettyTable<0.8,>=0.7.2 in c:\\users\\marcu\\appdata\\local\\programs\\python\\python37-32\\lib\\site-packages (from cliff->optuna) (0.7.2)\n",
      "Requirement already satisfied: pbr!=2.1.0,>=2.0.0 in c:\\users\\marcu\\appdata\\local\\programs\\python\\python37-32\\lib\\site-packages (from cliff->optuna) (5.4.5)\n",
      "Requirement already satisfied: PyYAML>=3.12 in c:\\users\\marcu\\appdata\\local\\programs\\python\\python37-32\\lib\\site-packages (from cliff->optuna) (5.3.1)\n",
      "Requirement already satisfied: six>=1.10.0 in c:\\users\\marcu\\appdata\\local\\programs\\python\\python37-32\\lib\\site-packages (from cliff->optuna) (1.14.0)\n",
      "Requirement already satisfied: pyparsing>=2.1.0 in c:\\users\\marcu\\appdata\\local\\programs\\python\\python37-32\\lib\\site-packages (from cliff->optuna) (2.4.7)\n",
      "Requirement already satisfied: colorama; sys_platform == \"win32\" in c:\\users\\marcu\\appdata\\local\\programs\\python\\python37-32\\lib\\site-packages (from colorlog->optuna) (0.4.3)\n",
      "Requirement already satisfied: Mako in c:\\users\\marcu\\appdata\\local\\programs\\python\\python37-32\\lib\\site-packages (from alembic->optuna) (1.1.3)\n",
      "Requirement already satisfied: python-dateutil in c:\\users\\marcu\\appdata\\local\\programs\\python\\python37-32\\lib\\site-packages (from alembic->optuna) (2.8.1)\n",
      "Requirement already satisfied: python-editor>=0.3 in c:\\users\\marcu\\appdata\\local\\programs\\python\\python37-32\\lib\\site-packages (from alembic->optuna) (1.0.4)\n",
      "Requirement already satisfied: itsdangerous>=0.24 in c:\\users\\marcu\\appdata\\local\\programs\\python\\python37-32\\lib\\site-packages (from flask->hiplot) (1.1.0)\n",
      "Requirement already satisfied: Werkzeug>=0.15 in c:\\users\\marcu\\appdata\\local\\programs\\python\\python37-32\\lib\\site-packages (from flask->hiplot) (1.0.1)\n",
      "Requirement already satisfied: Jinja2>=2.10.1 in c:\\users\\marcu\\appdata\\local\\programs\\python\\python37-32\\lib\\site-packages (from flask->hiplot) (2.11.2)\n",
      "Requirement already satisfied: click>=5.1 in c:\\users\\marcu\\appdata\\local\\programs\\python\\python37-32\\lib\\site-packages (from flask->hiplot) (7.1.2)\n",
      "Requirement already satisfied: soupsieve>1.2 in c:\\users\\marcu\\appdata\\local\\programs\\python\\python37-32\\lib\\site-packages (from beautifulsoup4->hiplot) (2.0.1)\n",
      "Requirement already satisfied: prompt-toolkit!=3.0.0,!=3.0.1,<3.1.0,>=2.0.0 in c:\\users\\marcu\\appdata\\local\\programs\\python\\python37-32\\lib\\site-packages (from ipython>=7.0.1->hiplot) (3.0.5)\n",
      "Requirement already satisfied: setuptools>=18.5 in c:\\users\\marcu\\appdata\\local\\programs\\python\\python37-32\\lib\\site-packages (from ipython>=7.0.1->hiplot) (40.8.0)\n",
      "Requirement already satisfied: jedi>=0.10 in c:\\users\\marcu\\appdata\\local\\programs\\python\\python37-32\\lib\\site-packages (from ipython>=7.0.1->hiplot) (0.17.1)\n",
      "Requirement already satisfied: decorator in c:\\users\\marcu\\appdata\\local\\programs\\python\\python37-32\\lib\\site-packages (from ipython>=7.0.1->hiplot) (4.4.2)\n",
      "Requirement already satisfied: pygments in c:\\users\\marcu\\appdata\\local\\programs\\python\\python37-32\\lib\\site-packages (from ipython>=7.0.1->hiplot) (2.6.1)\n",
      "Requirement already satisfied: backcall in c:\\users\\marcu\\appdata\\local\\programs\\python\\python37-32\\lib\\site-packages (from ipython>=7.0.1->hiplot) (0.2.0)\n",
      "Requirement already satisfied: pickleshare in c:\\users\\marcu\\appdata\\local\\programs\\python\\python37-32\\lib\\site-packages (from ipython>=7.0.1->hiplot) (0.7.5)\n",
      "Requirement already satisfied: traitlets>=4.2 in c:\\users\\marcu\\appdata\\local\\programs\\python\\python37-32\\lib\\site-packages (from ipython>=7.0.1->hiplot) (4.3.3)\n",
      "Requirement already satisfied: brotli in c:\\users\\marcu\\appdata\\local\\programs\\python\\python37-32\\lib\\site-packages (from flask-compress->hiplot) (1.0.7)\n",
      "Requirement already satisfied: importlib-metadata>=1.7.0; python_version < \"3.8\" in c:\\users\\marcu\\appdata\\local\\programs\\python\\python37-32\\lib\\site-packages (from stevedore>=1.20.0->cliff->optuna) (1.7.0)\n",
      "Requirement already satisfied: pyperclip>=1.6 in c:\\users\\marcu\\appdata\\local\\programs\\python\\python37-32\\lib\\site-packages (from cmd2!=0.8.3,>=0.8.0->cliff->optuna) (1.8.0)\n",
      "Requirement already satisfied: wcwidth>=0.1.7 in c:\\users\\marcu\\appdata\\local\\programs\\python\\python37-32\\lib\\site-packages (from cmd2!=0.8.3,>=0.8.0->cliff->optuna) (0.2.4)\n",
      "Requirement already satisfied: pyreadline; sys_platform == \"win32\" in c:\\users\\marcu\\appdata\\local\\programs\\python\\python37-32\\lib\\site-packages (from cmd2!=0.8.3,>=0.8.0->cliff->optuna) (2.1)\n",
      "Requirement already satisfied: attrs>=16.3.0 in c:\\users\\marcu\\appdata\\local\\programs\\python\\python37-32\\lib\\site-packages (from cmd2!=0.8.3,>=0.8.0->cliff->optuna) (19.3.0)\n",
      "Requirement already satisfied: MarkupSafe>=0.9.2 in c:\\users\\marcu\\appdata\\local\\programs\\python\\python37-32\\lib\\site-packages (from Mako->alembic->optuna) (1.1.1)\n",
      "Requirement already satisfied: parso<0.8.0,>=0.7.0 in c:\\users\\marcu\\appdata\\local\\programs\\python\\python37-32\\lib\\site-packages (from jedi>=0.10->ipython>=7.0.1->hiplot) (0.7.0)\n",
      "Requirement already satisfied: ipython-genutils in c:\\users\\marcu\\appdata\\local\\programs\\python\\python37-32\\lib\\site-packages (from traitlets>=4.2->ipython>=7.0.1->hiplot) (0.2.0)\n",
      "Requirement already satisfied: zipp>=0.5 in c:\\users\\marcu\\appdata\\local\\programs\\python\\python37-32\\lib\\site-packages (from importlib-metadata>=1.7.0; python_version < \"3.8\"->stevedore>=1.20.0->cliff->optuna) (3.1.0)\n"
     ]
    }
   ],
   "source": [
    "!python -m pip install optuna hiplot numpy"
   ]
  },
  {
   "cell_type": "markdown",
   "metadata": {},
   "source": [
    "## Parte 1 - Métricas de resultado, método de aprendizado e divisão por folds"
   ]
  },
  {
   "cell_type": "markdown",
   "metadata": {},
   "source": [
    "**Atividade 1**: Primeiramente, analise a classe `Resultado` que possui os seguintes atributos/propriedades: \n",
    "    \n",
    "   - **mat_confusão**: Retorna a matriz de confusão correpondente. Analise o código e entenda o que representa a linha e a coluna dessa matriz.\n",
    "    \n",
    "   - **precisao**:A partir da matriz de confusão, calcula a precisão por classe. Cada indice é o rótulo da classe. Caso o número de elementos previstos com uma determinada classe qualquer `c` seja zero, então `precisao[c] = 0`. Nesses casos, é [lançado um warning](https://docs.python.org/3.7/library/warnings.html) da classe `UndefinedMetricWarning` com uma mensagem que não havia instancias previstas para essa classe.\n",
    "   - **revocacao**: De forma similar à `precisao`, calcula a revocação por meio da matriz de confusão. Caso o número de elementos dessa classe seja igual a zero, então a revocação para esta class é zero e também deverá ser retornado um warning `UndefinedMetricWarning` com essa informação. \n",
    "   - **f1_por_classe**: Retorna, para cada classe, o seu valor F1. Caso a soma da precisão e revocação dessa classe seja zero, deverá ser retornado zero.\n",
    "\n",
    "Você deverá implementar as seguintes propriedades: \n",
    "\n",
    "   - **macro_f1**: Calcula a média do f1 por classe. O método [`np.average`](https://numpy.org/doc/stable/reference/generated/numpy.average.html) pode ajudar.\n",
    "   - **acuracia**: Calcula a acurácia  por meio da matriz de confusão.\n",
    "\n"
   ]
  },
  {
   "cell_type": "markdown",
   "metadata": {},
   "source": [
    "Logo após, execute os seguintes testes unitários: "
   ]
  },
  {
   "cell_type": "markdown",
   "metadata": {},
   "source": [
    "para validar o macro F1:"
   ]
  },
  {
   "cell_type": "code",
   "execution_count": 1,
   "metadata": {},
   "outputs": [
    {
     "name": "stderr",
     "output_type": "stream",
     "text": [
      ".\n",
      "----------------------------------------------------------------------\n",
      "Ran 1 test in 0.000s\n",
      "\n",
      "OK\n"
     ]
    }
   ],
   "source": [
    "!python -m tests TestResultado.test_macro_f1"
   ]
  },
  {
   "cell_type": "markdown",
   "metadata": {},
   "source": [
    "Para validar a acurácia: "
   ]
  },
  {
   "cell_type": "code",
   "execution_count": 2,
   "metadata": {},
   "outputs": [
    {
     "name": "stderr",
     "output_type": "stream",
     "text": [
      ".\n",
      "----------------------------------------------------------------------\n",
      "Ran 1 test in 0.000s\n",
      "\n",
      "OK\n"
     ]
    }
   ],
   "source": [
    "!python -m tests TestResultado.test_acuracia"
   ]
  },
  {
   "cell_type": "markdown",
   "metadata": {},
   "source": [
    "**Atividade 2 - Classe ScikitLearnAprendizadoDeMaquina: ** O arquivo `metodo.py` é o arquivo que possui os métodos de aprendizado de máquina. A classe `MetodoAprendizadoMaquina` é a classe abstrata para armazenar um método de aprendizado de máquina. Cada instancia, representa um método com seus determinados parametros. A classe `ScikitLearnaprendizadoDemaquina` é responsável por implementar métodos de aprendizado de máquina da API do [Scikit Learn](http://scikit-learn.org). Cada instancia desta classe armazena o respectivo método no atributo `ml_method`.  Por exemplo: \n",
    "\n"
   ]
  },
  {
   "cell_type": "markdown",
   "metadata": {},
   "source": [
    "Assim, você deve implementar o método `eval` da classe `ScikitLearnAprendizadoDeMaquina` para treinar e avaliar. Para isso, você deverá separar a coluna que se refere a classe e as colunas que se referem aos atributos. Logo após você deverá criar o modelo e executar obter a predições. No final, este método retorna uma instancia da classe `Resultado`. \n",
    "\n",
    "Execute o código abaixo para verificar o funcionamento deste método: "
   ]
  },
  {
   "cell_type": "code",
   "execution_count": 1,
   "metadata": {},
   "outputs": [
    {
     "name": "stdout",
     "output_type": "stream",
     "text": [
      "Macro f1: 0.5982142857142857 Acuracia: 0.6\n"
     ]
    },
    {
     "name": "stderr",
     "output_type": "stream",
     "text": [
      ".\n",
      "----------------------------------------------------------------------\n",
      "Ran 1 test in 0.006s\n",
      "\n",
      "OK\n"
     ]
    }
   ],
   "source": [
    "!python -m tests MetodoTest.test_eval"
   ]
  },
  {
   "cell_type": "markdown",
   "metadata": {},
   "source": [
    "**Atividade 3 - Criação dos folds: ** O arquivo `resultado.py` possui a classe `Fold` que é responsável por armazenar o treino, teste e validação (quando existente). Essa classe possui os seguintes atributos: \n",
    "\n",
    "- `df_treino`: Dataframe as instancias de treino. Cada instancia é uma linha e, suas colunas, são seus atributos e a sua classe\n",
    "- `df_data_to_predict`: Dataframe com as instancias de teste, representada da mesma forma que `df_treino`\n",
    "- `col_classe`: Coluna que representa a classe alvo nos DataFrames `df_treino` e `df_data_to_predict`\n",
    "- `arr_folds_validacao`: vetor com os folds de validação. Os folds de validação são também instancias da classe Fold. Tais instancias são construidas a partir do treino - você irá fazer isso nesta atividade. \n",
    "\n",
    "** Atividade 3(a): ** Primeiramente, implemente o [método estático](https://daniel-hasan.github.io/cefet-web-grad/classes/python2/#heranca) `gerar_k_folds`. A principio, ignore os parametros  `num_folds_validacao` e `num_repeticoes_validacao`. Este método divide em vários fold os dados `df_dados`. Cada fold deverá ser representado por uma instancia da classe Fold. Deve-se dividir o dataset em $k$ folds (parâmetro  `val_k`) e podem ser feitas $n$ repetições (parâmetro `num_repeticoes`). A escolha das instancias é feita sempre aleatória e, em cada repetição, todos os valores devem estar presentes  em apenas um teste. O treino ficaria com o restante dos valores. Veja abaixo um exemplo se dividirmos em três folds com duas repetições. Foi feito uma função para dividir em três folds e um exemplo em que foi gerado 2 repetições dele.  Para isso, usou-se a função [sample](https://pandas.pydata.org/pandas-docs/stable/reference/api/pandas.DataFrame.sample.html) para embaralhar os dados e um seed fixo para que sempre embaralhar da mesma forma. Esse seed é essencial para que se garanta a repodutibilidade dos experimentos. "
   ]
  },
  {
   "cell_type": "markdown",
   "metadata": {},
   "source": [
    "Diferentemente da função implementada acima, o método a ser implementado por vocês deverá ter uma quantidade qualquer de repetições (parâmetro `num_repeticoes`) e folds por repetição (parâmetro `val_k`). Ao criar o fold, também é necessário saber a coluna da classe, para isso, o parametro `col_classe` armazena seu valor. Implemente o método `gerar_k_folds`. Logo após, execute o seguinte código unitário: "
   ]
  },
  {
   "cell_type": "code",
   "execution_count": 2,
   "metadata": {},
   "outputs": [
    {
     "name": "stderr",
     "output_type": "stream",
     "text": [
      ".\n",
      "----------------------------------------------------------------------\n",
      "Ran 1 test in 0.010s\n",
      "\n",
      "OK\n"
     ]
    }
   ],
   "source": [
    "!python -m tests TestFold.test_gerar_k_folds"
   ]
  },
  {
   "cell_type": "markdown",
   "metadata": {},
   "source": [
    "**Atividade 3(b):** Agora, você deverá inicialiar o atributo `arr_folds_validacao` com um vetor de folds de validação, por meio dos dados de treino, de acordo com o número de repetições e folds passados como parametro no construtor. Para isso, invoque o método `gerar_k_folds` no construtor - note que estes folds a serem criados não possuirão validação - possuirão apenas treino e dados a serem previstos (teste). \n",
    "\n",
    "Logo após, faça uma pequena modificação no `gerar_k_folds`: os parametros  `num_folds_validacao` e `num_repeticoes_validacao` indicam se o fold a ser criado possuirá validação. Ao instanciar o fold, esses parametros devem ser passados para o contrutor do Fold. Teste a execução a seguir: "
   ]
  },
  {
   "cell_type": "code",
   "execution_count": 3,
   "metadata": {},
   "outputs": [
    {
     "name": "stderr",
     "output_type": "stream",
     "text": [
      ".\n",
      "----------------------------------------------------------------------\n",
      "Ran 1 test in 0.005s\n",
      "\n",
      "OK\n"
     ]
    }
   ],
   "source": [
    "!python -m tests TestFold.test_arr_validacao"
   ]
  }
 ],
 "metadata": {
  "kernelspec": {
   "display_name": "Python 3",
   "language": "python",
   "name": "python3"
  },
  "language_info": {
   "codemirror_mode": {
    "name": "ipython",
    "version": 3
   },
   "file_extension": ".py",
   "mimetype": "text/x-python",
   "name": "python",
   "nbconvert_exporter": "python",
   "pygments_lexer": "ipython3",
   "version": "3.7.4"
  }
 },
 "nbformat": 4,
 "nbformat_minor": 2
}
