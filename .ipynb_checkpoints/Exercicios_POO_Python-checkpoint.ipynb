{
 "cells": [
  {
   "cell_type": "markdown",
   "metadata": {},
   "source": [
    "# Exercícios Programação a Objetos Python\n",
    "\n",
    "## Aluno: Marcus Vinicius Durães Zuba¶\n",
    "## Professor: Daniel Hasan Dalip"
   ]
  },
  {
   "cell_type": "code",
   "execution_count": 1,
   "metadata": {},
   "outputs": [],
   "source": [
    "from datetime import date\n",
    "from typing import List"
   ]
  },
  {
   "cell_type": "code",
   "execution_count": 21,
   "metadata": {},
   "outputs": [],
   "source": [
    "class Autor:\n",
    "    def __init__(self,nome, ultimo_nome, data_nascimento=date.today(), nome_do_meio=''):\n",
    "        self.nome = nome\n",
    "        self.nome_do_meio = nome_do_meio\n",
    "        self.ultimo_nome = ultimo_nome\n",
    "        self.data_nascimento = data_nascimento\n",
    "        \n",
    "    @property\n",
    "    def nome_como_citado(self):\n",
    "        return self.ultimo_nome.upper() + ' ' + self.nome.upper()[0]\n",
    "    \n",
    "    @property\n",
    "    def nome_completo(self):\n",
    "        if (len(self.nome_do_meio)>0):\n",
    "            return self.nome + ' ' + self.nome_do_meio + ' ' + self.ultimo_nome\n",
    "        else:\n",
    "            return self.nome + ' ' + self.ultimo_nome\n",
    "        \n",
    "    def __str__(self):\n",
    "        return f\"Autor {self.nome} {self.nome_do_meio} {self.ultimo_nome} nascido em {self.data_nascimento}\"\n",
    "    \n",
    "    def __repr__(self):\n",
    "        return str(self)"
   ]
  },
  {
   "cell_type": "code",
   "execution_count": 22,
   "metadata": {},
   "outputs": [
    {
     "name": "stdout",
     "output_type": "stream",
     "text": [
      "Autor Marcus Vinicius Durães Zuba nascido em 2001-01-08\n",
      "ZUBA M\n",
      "QUADROS T\n"
     ]
    }
   ],
   "source": [
    "marcus = Autor(\"Marcus\", \"Zuba\",date(2001,1,8),\"Vinicius Durães\")\n",
    "gloria = Autor(\"Gloria\", \"Duraes\", date(1970,7,15),\"Aparecida\")\n",
    "thalita = Autor(\"Thalita\", \"Quadros\", date(2000,5,2))\n",
    "print(marcus)\n",
    "print(marcus.nome_como_citado)\n",
    "print(thalita.nome_como_citado)"
   ]
  },
  {
   "cell_type": "code",
   "execution_count": 23,
   "metadata": {},
   "outputs": [],
   "source": [
    "class Livro:\n",
    "    def __init__(self, titulo, ano, autores=[]):\n",
    "        self.titulo = titulo\n",
    "        self.ano = ano\n",
    "        self.autores = autores\n",
    "        \n",
    "    @property\n",
    "    def titulo(self):\n",
    "        return self._titulo\n",
    "    \n",
    "    @titulo.setter\n",
    "    def titulo(self,titulo):\n",
    "        if(len(titulo)==0):\n",
    "            raise ValueError(\"Erro: Não é possível o título do livro ser vazio\")\n",
    "        self._titulo = titulo\n",
    "        \n",
    "    def __str__(self):\n",
    "        dados_do_livro = f\"Livro de título: {self.titulo}, publicado em {self.ano}\"\n",
    "        if(len(self.autores)>0):  #Ve se tem autores\n",
    "            dados_do_livro += \" e escrito por: \"\n",
    "            i = 0\n",
    "            for autor in self.autores:\n",
    "                dados_do_livro += autor.nome_completo\n",
    "                i+=1\n",
    "                if(i<len(self.autores)):  #Coloca virgula ate o penultimo autor\n",
    "                    dados_do_livro += \", \"\n",
    "        return dados_do_livro\n",
    "    \n",
    "    def __repr__(self):\n",
    "        return str(self)"
   ]
  },
  {
   "cell_type": "code",
   "execution_count": 24,
   "metadata": {},
   "outputs": [
    {
     "ename": "ValueError",
     "evalue": "Erro: Não é possível o título do livro ser vazio",
     "output_type": "error",
     "traceback": [
      "\u001b[1;31m---------------------------------------------------------------------------\u001b[0m",
      "\u001b[1;31mValueError\u001b[0m                                Traceback (most recent call last)",
      "\u001b[1;32m<ipython-input-24-327422f2f958>\u001b[0m in \u001b[0;36m<module>\u001b[1;34m\u001b[0m\n\u001b[0;32m      1\u001b[0m \u001b[1;31m#testando o erro\u001b[0m\u001b[1;33m\u001b[0m\u001b[1;33m\u001b[0m\u001b[1;33m\u001b[0m\u001b[0m\n\u001b[1;32m----> 2\u001b[1;33m \u001b[0mlivro1\u001b[0m \u001b[1;33m=\u001b[0m \u001b[0mLivro\u001b[0m\u001b[1;33m(\u001b[0m\u001b[1;34m''\u001b[0m\u001b[1;33m,\u001b[0m\u001b[1;36m2001\u001b[0m\u001b[1;33m,\u001b[0m \u001b[1;33m[\u001b[0m\u001b[0mmarcus\u001b[0m\u001b[1;33m]\u001b[0m\u001b[1;33m)\u001b[0m\u001b[1;33m\u001b[0m\u001b[1;33m\u001b[0m\u001b[0m\n\u001b[0m",
      "\u001b[1;32m<ipython-input-23-70eda7f85d26>\u001b[0m in \u001b[0;36m__init__\u001b[1;34m(self, titulo, ano, autores)\u001b[0m\n\u001b[0;32m      1\u001b[0m \u001b[1;32mclass\u001b[0m \u001b[0mLivro\u001b[0m\u001b[1;33m:\u001b[0m\u001b[1;33m\u001b[0m\u001b[1;33m\u001b[0m\u001b[0m\n\u001b[0;32m      2\u001b[0m     \u001b[1;32mdef\u001b[0m \u001b[0m__init__\u001b[0m\u001b[1;33m(\u001b[0m\u001b[0mself\u001b[0m\u001b[1;33m,\u001b[0m \u001b[0mtitulo\u001b[0m\u001b[1;33m,\u001b[0m \u001b[0mano\u001b[0m\u001b[1;33m,\u001b[0m \u001b[0mautores\u001b[0m\u001b[1;33m=\u001b[0m\u001b[1;33m[\u001b[0m\u001b[1;33m]\u001b[0m\u001b[1;33m)\u001b[0m\u001b[1;33m:\u001b[0m\u001b[1;33m\u001b[0m\u001b[1;33m\u001b[0m\u001b[0m\n\u001b[1;32m----> 3\u001b[1;33m         \u001b[0mself\u001b[0m\u001b[1;33m.\u001b[0m\u001b[0mtitulo\u001b[0m \u001b[1;33m=\u001b[0m \u001b[0mtitulo\u001b[0m\u001b[1;33m\u001b[0m\u001b[1;33m\u001b[0m\u001b[0m\n\u001b[0m\u001b[0;32m      4\u001b[0m         \u001b[0mself\u001b[0m\u001b[1;33m.\u001b[0m\u001b[0mano\u001b[0m \u001b[1;33m=\u001b[0m \u001b[0mano\u001b[0m\u001b[1;33m\u001b[0m\u001b[1;33m\u001b[0m\u001b[0m\n\u001b[0;32m      5\u001b[0m         \u001b[0mself\u001b[0m\u001b[1;33m.\u001b[0m\u001b[0mautores\u001b[0m \u001b[1;33m=\u001b[0m \u001b[0mautores\u001b[0m\u001b[1;33m\u001b[0m\u001b[1;33m\u001b[0m\u001b[0m\n",
      "\u001b[1;32m<ipython-input-23-70eda7f85d26>\u001b[0m in \u001b[0;36mtitulo\u001b[1;34m(self, titulo)\u001b[0m\n\u001b[0;32m     12\u001b[0m     \u001b[1;32mdef\u001b[0m \u001b[0mtitulo\u001b[0m\u001b[1;33m(\u001b[0m\u001b[0mself\u001b[0m\u001b[1;33m,\u001b[0m\u001b[0mtitulo\u001b[0m\u001b[1;33m)\u001b[0m\u001b[1;33m:\u001b[0m\u001b[1;33m\u001b[0m\u001b[1;33m\u001b[0m\u001b[0m\n\u001b[0;32m     13\u001b[0m         \u001b[1;32mif\u001b[0m\u001b[1;33m(\u001b[0m\u001b[0mlen\u001b[0m\u001b[1;33m(\u001b[0m\u001b[0mtitulo\u001b[0m\u001b[1;33m)\u001b[0m\u001b[1;33m==\u001b[0m\u001b[1;36m0\u001b[0m\u001b[1;33m)\u001b[0m\u001b[1;33m:\u001b[0m\u001b[1;33m\u001b[0m\u001b[1;33m\u001b[0m\u001b[0m\n\u001b[1;32m---> 14\u001b[1;33m             \u001b[1;32mraise\u001b[0m \u001b[0mValueError\u001b[0m\u001b[1;33m(\u001b[0m\u001b[1;34m\"Erro: Não é possível o título do livro ser vazio\"\u001b[0m\u001b[1;33m)\u001b[0m\u001b[1;33m\u001b[0m\u001b[1;33m\u001b[0m\u001b[0m\n\u001b[0m\u001b[0;32m     15\u001b[0m         \u001b[0mself\u001b[0m\u001b[1;33m.\u001b[0m\u001b[0m_titulo\u001b[0m \u001b[1;33m=\u001b[0m \u001b[0mtitulo\u001b[0m\u001b[1;33m\u001b[0m\u001b[1;33m\u001b[0m\u001b[0m\n\u001b[0;32m     16\u001b[0m \u001b[1;33m\u001b[0m\u001b[0m\n",
      "\u001b[1;31mValueError\u001b[0m: Erro: Não é possível o título do livro ser vazio"
     ]
    }
   ],
   "source": [
    "#testando o erro \n",
    "livro1 = Livro('',2001, [marcus])"
   ]
  },
  {
   "cell_type": "code",
   "execution_count": 25,
   "metadata": {},
   "outputs": [
    {
     "name": "stdout",
     "output_type": "stream",
     "text": [
      "Livro de título: A casa na praia, publicado em 2001 e escrito por: Marcus Vinicius Durães Zuba\n",
      "Livro de título: A fazenda, publicado em 2009 e escrito por: Thalita Quadros\n",
      "Livro de título: O milharau, publicado em 2020 e escrito por: Gloria Aparecida Duraes, Thalita Quadros\n"
     ]
    }
   ],
   "source": [
    "livro1 = Livro('A casa na praia', 2001, [marcus])\n",
    "livro2 = Livro('A fazenda', 2009, [thalita])\n",
    "livro3 = Livro('O milharau', 2020, [gloria, thalita])\n",
    "print(livro1)\n",
    "print(livro2)\n",
    "print(livro3)"
   ]
  },
  {
   "cell_type": "code",
   "execution_count": 26,
   "metadata": {},
   "outputs": [],
   "source": [
    "class Biblioteca:\n",
    "    def __init__(self, livros:List[\"Livro\"]):\n",
    "        self.livros = livros\n",
    "        \n",
    "    @property    \n",
    "    def livros_por_autor(self):\n",
    "        livros_autores = {}\n",
    "        for livro in self.livros:\n",
    "            for autor in livro.autores:\n",
    "                if autor.nome_como_citado not in livros_autores.keys(): #Se o autor nao tiver no dicionario, \n",
    "                    livros_autores[autor.nome_como_citado] = [livro.titulo]     #adiciona ele com o livro\n",
    "                else:\n",
    "                    livros_autores[autor.nome_como_citado].append(livro.titulo) #Se o autor ja tiver no dicionario \n",
    "        return livros_autores                                            #só adiciona na lista de livros dele\n",
    "        \n",
    "    \n",
    "    #To colocando só o titulo do livro no dict pq achei que fica melhor pra visualizar, mas poderia ser os obj \"livro\" tbm\n",
    "    \n",
    "    def __str__(self):\n",
    "        livros_na_biblioteca = 'A biblioteca tem os seguintes livros: '\n",
    "        i = 0\n",
    "        for livro in self.livros:\n",
    "            livros_na_biblioteca += livro.titulo\n",
    "            i += 1\n",
    "            if(i<len(self.livros)):          #coloca virgula ate o penultimo livro\n",
    "                livros_na_biblioteca += ', ' \n",
    "        return livros_na_biblioteca\n",
    "                \n",
    "    def __repr__(self):\n",
    "        return str(self)"
   ]
  },
  {
   "cell_type": "code",
   "execution_count": 27,
   "metadata": {},
   "outputs": [
    {
     "name": "stdout",
     "output_type": "stream",
     "text": [
      "A biblioteca tem os seguintes livros: A casa na praia, A fazenda, O milharau\n",
      "{'ZUBA M': ['A casa na praia'], 'QUADROS T': ['A fazenda', 'O milharau'], 'DURAES G': ['O milharau']}\n"
     ]
    }
   ],
   "source": [
    "biblis = Biblioteca([livro1, livro2, livro3])\n",
    "print(biblis)\n",
    "print(biblis.livros_por_autor)"
   ]
  }
 ],
 "metadata": {
  "kernelspec": {
   "display_name": "Python 3",
   "language": "python",
   "name": "python3"
  },
  "language_info": {
   "codemirror_mode": {
    "name": "ipython",
    "version": 3
   },
   "file_extension": ".py",
   "mimetype": "text/x-python",
   "name": "python",
   "nbconvert_exporter": "python",
   "pygments_lexer": "ipython3",
   "version": "3.7.4"
  }
 },
 "nbformat": 4,
 "nbformat_minor": 4
}
