{
 "cells": [
  {
   "cell_type": "markdown",
   "metadata": {},
   "source": [
    "# Exercícios Sintaxe Python\n",
    "\n",
    "## Aluno: Marcus Vinicius Durães Zuba\n",
    "## Professor: Daniel Hasan Dalip"
   ]
  },
  {
   "cell_type": "markdown",
   "metadata": {},
   "source": [
    "1. Criar uma função maior(a,b): Retorna o maior valor entre a e b."
   ]
  },
  {
   "cell_type": "code",
   "execution_count": 10,
   "metadata": {},
   "outputs": [
    {
     "name": "stdout",
     "output_type": "stream",
     "text": [
      "2\n",
      "2\n",
      "-1\n"
     ]
    }
   ],
   "source": [
    "def maior(a:int,b:int) ->int:\n",
    "    if a>b:\n",
    "        return a\n",
    "    else:\n",
    "        return b\n",
    "\n",
    "print(maior(1,2))\n",
    "print(maior(2,1))\n",
    "print(maior(-5,-1))"
   ]
  },
  {
   "cell_type": "markdown",
   "metadata": {},
   "source": [
    "2. Criar uma função soma(lista,x): retorna o somatório dos valores passados pela lista. O argumento x deve ser opcional que, se passado, será somado ao resultado final."
   ]
  },
  {
   "cell_type": "code",
   "execution_count": 12,
   "metadata": {},
   "outputs": [
    {
     "name": "stdout",
     "output_type": "stream",
     "text": [
      "10\n",
      "10\n"
     ]
    }
   ],
   "source": [
    "from typing import List\n",
    "def soma(lista:List, x=0) ->int :\n",
    "    somaTotal = 0\n",
    "    for numero in lista:\n",
    "        somaTotal += numero\n",
    "    return somaTotal+x\n",
    "\n",
    "lista = [1,2,3,4]\n",
    "\n",
    "print(soma(lista))\n",
    "print(soma(lista,0))"
   ]
  },
  {
   "cell_type": "markdown",
   "metadata": {},
   "source": [
    "3. Criar uma função media(lista): Retorna a média dos valores passados pela lista."
   ]
  },
  {
   "cell_type": "code",
   "execution_count": 13,
   "metadata": {},
   "outputs": [
    {
     "name": "stdout",
     "output_type": "stream",
     "text": [
      "2.5\n",
      "3.0\n"
     ]
    }
   ],
   "source": [
    "from typing import List\n",
    "def media(lista:List) -> float:\n",
    "    _media = 0\n",
    "    for numero in lista:\n",
    "        _media += numero\n",
    "    _media /= len(lista)\n",
    "    return _media\n",
    "\n",
    "lista = [1,2,3,4]\n",
    "print(media(lista))\n",
    "lista = [3,3,3]\n",
    "print(media(lista))"
   ]
  },
  {
   "cell_type": "markdown",
   "metadata": {},
   "source": [
    "4. Criar uma função valores_iguais(lista1,lista2): retorna uma lista contendo os valores iguais entre as duas listas passadas como parâmetro."
   ]
  },
  {
   "cell_type": "code",
   "execution_count": 17,
   "metadata": {},
   "outputs": [
    {
     "name": "stdout",
     "output_type": "stream",
     "text": [
      "[2, 3, 4, 5]\n",
      "[0]\n"
     ]
    }
   ],
   "source": [
    "from typing import List\n",
    "def valores_iguais(lista1:List, lista2:List) -> List:\n",
    "    iguais = []\n",
    "    for numero1 in lista1:\n",
    "        for numero2 in lista2:\n",
    "            if numero1 == numero2:\n",
    "                if numero1 not in iguais: #Só adiciona se o número já não estiver na lista\n",
    "                    iguais.append(numero1)\n",
    "    return iguais\n",
    "\n",
    "lista1 = [0,1,2,3,4,5,2]\n",
    "lista2 = [3,4,5,6,2]\n",
    "\n",
    "print(valores_iguais(lista1,lista2))\n",
    "\n",
    "lista1 = [0,0,0,0,0]\n",
    "lista2 = [0,0,0,0,0]\n",
    "\n",
    "print(valores_iguais(lista1,lista2))"
   ]
  },
  {
   "cell_type": "markdown",
   "metadata": {},
   "source": [
    "5. Criar uma função indice_prim_valor_igual(lista1,lista2): retorna a posição na lista1 do primeiro valor igual ao da lista2. Caso não exista, é retornado None."
   ]
  },
  {
   "cell_type": "code",
   "execution_count": 16,
   "metadata": {},
   "outputs": [
    {
     "name": "stdout",
     "output_type": "stream",
     "text": [
      "A posição é:1\n",
      "None\n"
     ]
    }
   ],
   "source": [
    "from typing import List\n",
    "def indice_prim_valor_igual(lista1:List, lista2:List) ->int:\n",
    "    i = 0\n",
    "    for numero1 in lista1:\n",
    "        for numero2 in lista2:\n",
    "            if numero1 == numero2:\n",
    "                return i\n",
    "        i+=1\n",
    "    return None\n",
    "\n",
    "lista1 = [1,2,3,4,5]\n",
    "lista2 = [7,8,2,4,6]\n",
    "\n",
    "print(f'A posição é:{indice_prim_valor_igual(lista1, lista2)}')\n",
    "\n",
    "lista1 = [1,2,3,4,5]\n",
    "lista2 = [6,7,8,9,10]\n",
    "\n",
    "print(indice_prim_valor_igual(lista1, lista2))"
   ]
  }
 ],
 "metadata": {
  "kernelspec": {
   "display_name": "Python 3",
   "language": "python",
   "name": "python3"
  },
  "language_info": {
   "codemirror_mode": {
    "name": "ipython",
    "version": 3
   },
   "file_extension": ".py",
   "mimetype": "text/x-python",
   "name": "python",
   "nbconvert_exporter": "python",
   "pygments_lexer": "ipython3",
   "version": "3.7.4"
  }
 },
 "nbformat": 4,
 "nbformat_minor": 2
}
